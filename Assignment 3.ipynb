{
 "cells": [
  {
   "cell_type": "markdown",
   "id": "81c131bc-d2ff-49e1-b4ab-ee41d0a93932",
   "metadata": {},
   "source": [
    "1)Characteristics of tuple - Its iteratable, it supports multiple type of data its Immutable. "
   ]
  },
  {
   "cell_type": "code",
   "execution_count": 4,
   "id": "74da7e88-2b9d-4e46-82e8-6852780177cd",
   "metadata": {},
   "outputs": [
    {
     "data": {
      "text/plain": [
       "2"
      ]
     },
     "execution_count": 4,
     "metadata": {},
     "output_type": "execute_result"
    }
   ],
   "source": [
    "# 2)Tuple Methods- \n",
    "# a)Count- Counts the occurence of given value\n",
    "t1=(True,'a','b','c',1)\n",
    "t1.count(True) \n",
    "#Here count of True is 2 as Pega internally stores True as 1\n"
   ]
  },
  {
   "cell_type": "code",
   "execution_count": 5,
   "id": "34cb18fc-d2f8-4185-bacb-9ccf90846683",
   "metadata": {},
   "outputs": [
    {
     "data": {
      "text/plain": [
       "0"
      ]
     },
     "execution_count": 5,
     "metadata": {},
     "output_type": "execute_result"
    }
   ],
   "source": [
    "# b) Index- Returns Index of given value in parameter\n",
    "t1=(True,'a','b','c',1)\n",
    "t1.index(1)\n",
    "#Here index of 1 is 0 as Pega internally stores True as 1\n",
    "#Only 2 built in method as its immutable so does not support other methods"
   ]
  },
  {
   "cell_type": "code",
   "execution_count": 6,
   "id": "8cf28398-f42d-4b6c-9983-ffd504bd6926",
   "metadata": {},
   "outputs": [
    {
     "data": {
      "text/plain": [
       "{1, 2, 3, 4}"
      ]
     },
     "execution_count": 6,
     "metadata": {},
     "output_type": "execute_result"
    }
   ],
   "source": [
    "# 3)Set does not allow duplicate items. \n",
    "List = [1, 1, 1, 2, 1, 3, 1, 4, 2, 1, 2, 2, 2, 3, 2, 4, 3, 1, 3, 2, 3, 3, 3, 4, 4, 1, 4, 2, 4, 3, 4, 4]\n",
    "set(List)"
   ]
  },
  {
   "cell_type": "code",
   "execution_count": 8,
   "id": "d93889e9-ef2f-4efd-8992-6d2ed0d22a21",
   "metadata": {},
   "outputs": [
    {
     "data": {
      "text/plain": [
       "{1, 2, 3, 4}"
      ]
     },
     "execution_count": 8,
     "metadata": {},
     "output_type": "execute_result"
    }
   ],
   "source": [
    "#4)Union - Union is not in place function, we will have to set the value in the variable to update it. Update is in place function where its updated on the object.\n",
    "Set1={1,2,3,4}\n",
    "Set2={2,3,5,6}\n",
    "Set1.union(Set2)\n",
    "Set1\n"
   ]
  },
  {
   "cell_type": "code",
   "execution_count": 9,
   "id": "9ef0cd5d-9ee6-4979-a029-39976d3b1956",
   "metadata": {},
   "outputs": [
    {
     "data": {
      "text/plain": [
       "{1, 2, 3, 4, 5, 6}"
      ]
     },
     "execution_count": 9,
     "metadata": {},
     "output_type": "execute_result"
    }
   ],
   "source": [
    "Set1.update(Set2)\n",
    "Set1"
   ]
  },
  {
   "cell_type": "code",
   "execution_count": 13,
   "id": "3444e0b1-ac1d-435e-95af-f114024e0853",
   "metadata": {},
   "outputs": [
    {
     "data": {
      "text/plain": [
       "{1: 'this', 2: 'Test', 3: 'is'}"
      ]
     },
     "execution_count": 13,
     "metadata": {},
     "output_type": "execute_result"
    }
   ],
   "source": [
    "# 5) Dictionary is datastructure which is key value based where we can get values based on keys. \n",
    "d1={1:\"this\",\n",
    " 2:\"Test\",3:\"is\"}\n",
    "# It is ordered structure.\n",
    "d1"
   ]
  },
  {
   "cell_type": "code",
   "execution_count": 19,
   "id": "4f7a4584-639d-4c84-b1e5-88c030e78085",
   "metadata": {},
   "outputs": [
    {
     "data": {
      "text/plain": [
       "{'firstdict': {'Test': 'this', 'This': 'Test'}}"
      ]
     },
     "execution_count": 19,
     "metadata": {},
     "output_type": "execute_result"
    }
   ],
   "source": [
    "# 6) We can create a nested dictionary.\n",
    "d1={\"Test\":\"this\", \"This\":\"Test\"}\n",
    "d2={\"firstdict\":d1}\n",
    "d2"
   ]
  },
  {
   "cell_type": "code",
   "execution_count": 23,
   "id": "8fbe066f-ca0f-4877-9409-3008c22a9738",
   "metadata": {},
   "outputs": [
    {
     "data": {
      "text/plain": [
       "{'language': 'Python',\n",
       " 'course': 'Data Science Masters',\n",
       " 'topics': ['Python', 'Machine Learning', 'Deep Learning']}"
      ]
     },
     "execution_count": 23,
     "metadata": {},
     "output_type": "execute_result"
    }
   ],
   "source": [
    "# 7)\n",
    "dict1 = {'language' : 'Python', 'course': 'Data Science Masters'}\n",
    "dict1.setdefault('topics',['Python', 'Machine Learning', 'Deep Learning'])\n",
    "dict1"
   ]
  },
  {
   "cell_type": "code",
   "execution_count": 29,
   "id": "16e19146-4c03-456a-a5b1-ec0dabfa9a6d",
   "metadata": {},
   "outputs": [
    {
     "name": "stdout",
     "output_type": "stream",
     "text": [
      "dict_values(['Cricket', ['India', 'Australia', 'England', 'South Africa', 'Sri Lanka', 'New Zealand']])\n",
      "dict_items([('Sport', 'Cricket'), ('Teams', ['India', 'Australia', 'England', 'South Africa', 'Sri Lanka', 'New Zealand'])])\n"
     ]
    }
   ],
   "source": [
    "# 8) the three view objects in dictionaries are keys,values and items. \n",
    "dict1 = {'Sport': 'Cricket' , 'Teams': ['India', 'Australia', 'England', 'South Africa', 'Sri Lanka', 'New Zealand']}\n",
    "dict1.keys()\n",
    "\n",
    "print(dict1.values())\n",
    "print(dict1.items())\n",
    "\n"
   ]
  },
  {
   "cell_type": "code",
   "execution_count": null,
   "id": "bf58cb61-1e76-4cce-941d-008b15944855",
   "metadata": {},
   "outputs": [],
   "source": []
  }
 ],
 "metadata": {
  "kernelspec": {
   "display_name": "Python 3 (ipykernel)",
   "language": "python",
   "name": "python3"
  },
  "language_info": {
   "codemirror_mode": {
    "name": "ipython",
    "version": 3
   },
   "file_extension": ".py",
   "mimetype": "text/x-python",
   "name": "python",
   "nbconvert_exporter": "python",
   "pygments_lexer": "ipython3",
   "version": "3.10.8"
  }
 },
 "nbformat": 4,
 "nbformat_minor": 5
}
