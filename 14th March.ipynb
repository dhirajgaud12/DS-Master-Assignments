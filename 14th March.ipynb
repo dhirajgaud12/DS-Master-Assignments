{
 "cells": [
  {
   "cell_type": "code",
   "execution_count": 3,
   "id": "23b6cf2c-2dab-4e80-9f5b-6b1dd8df0d54",
   "metadata": {},
   "outputs": [
    {
     "name": "stdout",
     "output_type": "stream",
     "text": [
      "F-value: 1.11\n",
      "P-value: 0.9192\n"
     ]
    }
   ],
   "source": [
    "#1) \n",
    "import numpy as np\n",
    "import scipy.stats as stats\n",
    "\n",
    "\n",
    "def retFValue(list1,list2):\n",
    "    data1 = np.array(list1)\n",
    "    data2 = np.array(list2)\n",
    "    var1 = np.var(data1, ddof=1)  \n",
    "    var2 = np.var(data2, ddof=1)\n",
    "    f_value = var1 / var2 if var1 >= var2 else var2 / var1\n",
    "    df1 = len(data1) - 1\n",
    "    df2 = len(data2) - 1\n",
    "    if var1 >= var2:\n",
    "        p_value = 2 * (1 - stats.f.cdf(f_value, df1, df2))\n",
    "    else:\n",
    "        p_value = 2 * stats.f.cdf(f_value, df2, df1)\n",
    "    return f_value, p_value\n",
    "\n",
    "data1 = [12.5, 14.2, 13.8, 15.1, 14.9]\n",
    "data2 = [11.8, 13.2, 12.5, 13.7, 14.3]\n",
    "f_value, p_value = retFValue(data1, data2)\n",
    "print(f\"F-value: {f_value:.2f}\")\n",
    "print(f\"P-value: {p_value:.4f}\")"
   ]
  },
  {
   "cell_type": "code",
   "execution_count": 4,
   "id": "c3abd3aa-014d-4e6a-aae0-3f9ac459e403",
   "metadata": {},
   "outputs": [
    {
     "name": "stdout",
     "output_type": "stream",
     "text": [
      "Critical F-value: 3.8587\n"
     ]
    }
   ],
   "source": [
    "# 2)\n",
    "\n",
    "import scipy.stats as stats\n",
    "\n",
    "def critical_f_value(alpha, dfn, dfd):\n",
    "   \n",
    "    alpha_over_2 = alpha / 2\n",
    "    critical_f = stats.f.ppf(1 - alpha_over_2, dfn, dfd)\n",
    "\n",
    "    return critical_f\n",
    "\n",
    "alpha = 0.05 \n",
    "dfn = 3      \n",
    "dfd = 20     \n",
    "\n",
    "critical_f = critical_f_value(alpha, dfn, dfd)\n",
    "print(f\"Critical F-value: {critical_f:.4f}\")\n"
   ]
  },
  {
   "cell_type": "code",
   "execution_count": 7,
   "id": "ee1377f9-beca-4b60-bdd1-18850bc31490",
   "metadata": {},
   "outputs": [
    {
     "name": "stdout",
     "output_type": "stream",
     "text": [
      "F-Test Results:\n",
      "F-Value: 1.0632\n",
      "P-Value: 0.8472\n",
      "Fail to reject the null hypothesis.\n"
     ]
    }
   ],
   "source": [
    "# 3) \n",
    "\n",
    "import numpy as np\n",
    "import scipy.stats as stats\n",
    "\n",
    "variance1 = 10.0\n",
    "variance2 = 15.0\n",
    "\n",
    "n1 = 30\n",
    "n2 = 40\n",
    "\n",
    "np.random.seed(0) \n",
    "sample1 = np.random.normal(loc=0, scale=np.sqrt(variance1), size=n1)\n",
    "sample2 = np.random.normal(loc=0, scale=np.sqrt(variance2), size=n2)\n",
    "\n",
    "f_statistic = np.var(sample1, ddof=1) / np.var(sample2, ddof=1)\n",
    "dfn = n1 - 1\n",
    "dfd = n2 - 1\n",
    "p_value = 2 * min(stats.f.cdf(f_statistic, dfn, dfd), 1 - stats.f.cdf(f_statistic, dfn, dfd))\n",
    "\n",
    "print(\"F-Test Results:\")\n",
    "print(f\"F-Value: {f_statistic:.4f}\")\n",
    "print(f\"P-Value: {p_value:.4f}\")\n",
    "\n",
    "alpha = 0.05\n",
    "if p_value < alpha:\n",
    "    print(\"Rejecting the null hypothesis.\")\n",
    "else:\n",
    "    print(\"Fail to reject the null hypothesis.\")\n",
    "\n"
   ]
  },
  {
   "cell_type": "code",
   "execution_count": 8,
   "id": "3efc4ea6-978b-41b5-a9e0-e21ad343aabe",
   "metadata": {},
   "outputs": [
    {
     "name": "stdout",
     "output_type": "stream",
     "text": [
      "F-Statstic: 0.6667\n",
      "Critical F-Value: 3.4737\n",
      "Fail to reject the null hypothesis.\n"
     ]
    }
   ],
   "source": [
    "# 4) \n",
    "import scipy.stats as stats\n",
    "\n",
    "variance1 = 10\n",
    "variance2 = 15\n",
    "n = 12\n",
    "\n",
    "f_statistic = variance1 / variance2\n",
    "\n",
    "dfn = n - 1\n",
    "dfd = n - 1\n",
    "\n",
    "alpha = 0.05\n",
    "\n",
    "critical_f_value = stats.f.ppf(1 - alpha / 2, dfn, dfd)\n",
    "\n",
    "print(f\"F-Statstic: {f_statistic:.4f}\")\n",
    "print(f\"Critical F-Value: {critical_f_value:.4f}\")\n",
    "\n",
    "if f_statistic > critical_f_value:\n",
    "    print(\"Reject the null hypothesis.\")\n",
    "else:\n",
    "    print(\"Fail to reject the null hypothesis.\")\n"
   ]
  },
  {
   "cell_type": "code",
   "execution_count": 9,
   "id": "1d03f7f0-df80-469e-a9cb-c5f1410704ff",
   "metadata": {},
   "outputs": [
    {
     "name": "stdout",
     "output_type": "stream",
     "text": [
      "F-Test Results:\n",
      "F-Statstic: 1.2000\n",
      "Critical F-Values: 0.3371 and 2.9667\n",
      "Fail to reject the null hypothesis.\n"
     ]
    }
   ],
   "source": [
    "#5)\n",
    "\n",
    "import scipy.stats as stats\n",
    "\n",
    "sample_variance = 0.006\n",
    "claimed_variance = 0.005\n",
    "sample_size = 25\n",
    "alpha = 0.01\n",
    "\n",
    "f_statistic = sample_variance / claimed_variance\n",
    "\n",
    "dfn = sample_size - 1\n",
    "dfd = sample_size - 1\n",
    "\n",
    "critical_f_lower = stats.f.ppf(alpha / 2, dfn, dfd)\n",
    "critical_f_upper = stats.f.ppf(1 - alpha / 2, dfn, dfd)\n",
    "\n",
    "print(\"F-Test Results:\")\n",
    "print(f\"F-Statstic: {f_statistic:.4f}\")\n",
    "print(f\"Critical F-Values: {critical_f_lower:.4f} and {critical_f_upper:.4f}\")\n",
    "\n",
    "if f_statistic < critical_f_lower or f_statistic > critical_f_upper:\n",
    "    print(\"Reject the null hypothesis.\")\n",
    "else:\n",
    "    print(\"Fail to reject the null hypothesis.\")\n"
   ]
  },
  {
   "cell_type": "code",
   "execution_count": 10,
   "id": "a161986e-ef9d-461c-9696-13e9a41b40fe",
   "metadata": {},
   "outputs": [
    {
     "name": "stdout",
     "output_type": "stream",
     "text": [
      "Mean of F-distribution: 1.2500\n",
      "Variance of F-distribution: 1.3542\n"
     ]
    }
   ],
   "source": [
    "#6) \n",
    "\n",
    "def mean_and_variance_of_F_distribution(dfn, dfd):\n",
    "   \n",
    "   \n",
    "    # Calculate the mean\n",
    "    if dfd > 2:\n",
    "        mean = dfd / (dfd - 2)\n",
    "\n",
    "    if dfd > 4:\n",
    "        variance = (2 * (dfd**2) * (dfn + dfd - 2)) / (dfn * (dfd - 2)**2 * (dfd - 4))\n",
    "    else:\n",
    "        variance = float(\"inf\")  \n",
    "\n",
    "    return mean, variance\n",
    "\n",
    "dfn = 5  \n",
    "dfd = 10 \n",
    "\n",
    "mean, variance = mean_and_variance_of_F_distribution(dfn, dfd)\n",
    "print(f\"Mean of F-distribution: {mean:.4f}\")\n",
    "print(f\"Variance of F-distribution: {variance:.4f}\")\n"
   ]
  },
  {
   "cell_type": "code",
   "execution_count": 11,
   "id": "b71ceef4-c42e-4916-9b35-1bde40c2a1df",
   "metadata": {},
   "outputs": [
    {
     "name": "stdout",
     "output_type": "stream",
     "text": [
      "F-Statstic: 1.2500\n",
      "Critical F-Values: 0.3305 and 2.6458\n",
      "Fail to reject the null hypothesis.\n"
     ]
    }
   ],
   "source": [
    "#7) \n",
    "\n",
    "import scipy.stats as stats\n",
    "\n",
    "sample_variance1 = 25\n",
    "sample_variance2 = 20\n",
    "\n",
    "alpha = 0.10\n",
    "\n",
    "f_statistic = sample_variance1 / sample_variance2\n",
    "\n",
    "dfn = 9  \n",
    "dfd = 14 \n",
    "\n",
    "critical_f_lower = stats.f.ppf(alpha / 2, dfn, dfd)\n",
    "critical_f_upper = stats.f.ppf(1 - alpha / 2, dfn, dfd)\n",
    "\n",
    "print(f\"F-Statstic: {f_statistic:.4f}\")\n",
    "print(f\"Critical F-Values: {critical_f_lower:.4f} and {critical_f_upper:.4f}\")\n",
    "\n",
    "\n",
    "if f_statistic < critical_f_lower or f_statistic > critical_f_upper:\n",
    "    print(\"Rejecting the null hypothesis.\")\n",
    "else:\n",
    "    print(\"Fail to reject the null hypothesis.\")\n"
   ]
  },
  {
   "cell_type": "code",
   "execution_count": 12,
   "id": "01eac5cf-4755-4a8f-8282-b988fffd53c2",
   "metadata": {},
   "outputs": [
    {
     "name": "stdout",
     "output_type": "stream",
     "text": [
      "F-Statstic: 1.4552\n",
      "Critical F-Values: 0.1670 and 6.9777\n",
      "Fail to reject the null hypothesis.\n"
     ]
    }
   ],
   "source": [
    "#8)\n",
    "\n",
    "import scipy.stats as stats\n",
    "\n",
    "waiting_times_A = [24, 25, 28, 23, 22, 20, 27]\n",
    "waiting_times_B = [31, 33, 35, 30, 32, 36]\n",
    "sample_variance_A = sum([(x - sum(waiting_times_A) / len(waiting_times_A))**2 for x in waiting_times_A]) / (len(waiting_times_A) - 1)\n",
    "sample_variance_B = sum([(x - sum(waiting_times_B) / len(waiting_times_B))**2 for x in waiting_times_B]) / (len(waiting_times_B) - 1)\n",
    "alpha = 0.05\n",
    "f_statistic = sample_variance_A / sample_variance_B\n",
    "\n",
    "dfn = len(waiting_times_A) - 1\n",
    "dfd = len(waiting_times_B) - 1\n",
    "critical_f_lower = stats.f.ppf(alpha / 2, dfn, dfd)\n",
    "critical_f_upper = stats.f.ppf(1 - alpha / 2, dfn, dfd)\n",
    "\n",
    "print(f\"F-Statstic: {f_statistic:.4f}\")\n",
    "print(f\"Critical F-Values: {critical_f_lower:.4f} and {critical_f_upper:.4f}\")\n",
    "\n",
    "if f_statistic < critical_f_lower or f_statistic > critical_f_upper:\n",
    "    print(\"Rejecting the null hypothesis.\")\n",
    "else:\n",
    "    print(\"Fail to reject the null hypothesis.\")\n"
   ]
  },
  {
   "cell_type": "code",
   "execution_count": 13,
   "id": "944f3be9-a255-43db-a328-2f3c4ac305ae",
   "metadata": {},
   "outputs": [
    {
     "name": "stdout",
     "output_type": "stream",
     "text": [
      "F-Statstic: 1.9443\n",
      "Critical F-Values: 0.0669 and 14.9396\n",
      "Fail to reject the null hypothesis.\n"
     ]
    }
   ],
   "source": [
    "#9)\n",
    "\n",
    "import scipy.stats as stats\n",
    "\n",
    "test_scores_A = [80, 85, 90, 92, 87, 83]\n",
    "test_scores_B = [75, 78, 82, 79, 81, 84]\n",
    "\n",
    "sample_variance_A = sum([(x - sum(test_scores_A) / len(test_scores_A))**2 for x in test_scores_A]) / (len(test_scores_A) - 1)\n",
    "sample_variance_B = sum([(x - sum(test_scores_B) / len(test_scores_B))**2 for x in test_scores_B]) / (len(test_scores_B) - 1)\n",
    "\n",
    "alpha = 0.01\n",
    "f_statistic = sample_variance_A / sample_variance_B\n",
    "\n",
    "dfn = len(test_scores_A) - 1\n",
    "dfd = len(test_scores_B) - 1\n",
    "critical_f_lower = stats.f.ppf(alpha / 2, dfn, dfd)\n",
    "critical_f_upper = stats.f.ppf(1 - alpha / 2, dfn, dfd)\n",
    "print(f\"F-Statstic: {f_statistic:.4f}\")\n",
    "print(f\"Critical F-Values: {critical_f_lower:.4f} and {critical_f_upper:.4f}\")\n",
    "\n",
    "if f_statistic < critical_f_lower or f_statistic > critical_f_upper:\n",
    "    print(\"Rejecting the null hypothesis.\")\n",
    "else:\n",
    "    print(\"Fail to reject the null hypothesis.\")\n"
   ]
  },
  {
   "cell_type": "code",
   "execution_count": null,
   "id": "76cc47e5-f7e4-4c99-9f97-b33df8549f22",
   "metadata": {},
   "outputs": [],
   "source": []
  }
 ],
 "metadata": {
  "kernelspec": {
   "display_name": "Python 3 (ipykernel)",
   "language": "python",
   "name": "python3"
  },
  "language_info": {
   "codemirror_mode": {
    "name": "ipython",
    "version": 3
   },
   "file_extension": ".py",
   "mimetype": "text/x-python",
   "name": "python",
   "nbconvert_exporter": "python",
   "pygments_lexer": "ipython3",
   "version": "3.10.8"
  }
 },
 "nbformat": 4,
 "nbformat_minor": 5
}
