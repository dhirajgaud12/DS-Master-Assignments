{
 "cells": [
  {
   "cell_type": "code",
   "execution_count": 1,
   "id": "67a6e9b1-1c6b-4103-8051-dba5b70c9b6b",
   "metadata": {},
   "outputs": [
    {
     "name": "stdout",
     "output_type": "stream",
     "text": [
      "Valid Password\n"
     ]
    }
   ],
   "source": [
    "#1) \n",
    "def passvalidate(string1):\n",
    "    countlowercase=0\n",
    "    countuppercase=0\n",
    "    splcharcount=0\n",
    "    casematchpass=False\n",
    "    containnum=False\n",
    "    \n",
    "    for i in string1:\n",
    "        if i.islower():\n",
    "            countlowercase=countlowercase+1\n",
    "        elif i.isupper():\n",
    "            countuppercase=countuppercase+1\n",
    "        if i.isnumeric():\n",
    "            containnum=True\n",
    "            \n",
    "    if countlowercase>=2 and countuppercase>=2:\n",
    "        casematchpass=True\n",
    "    \n",
    "    if (casematchpass==True and containnum==True and not string1.isalnum() and len(string1)==10):\n",
    "        return \"Valid Password\"\n",
    "    else:\n",
    "        return \"Invalid Password\"\n",
    "    \n",
    "\n",
    "passvalidate(\"string1\")    \n",
    "print(passvalidate(\"STr!@#ng1s\"))"
   ]
  },
  {
   "cell_type": "code",
   "execution_count": 2,
   "id": "fb0767aa-a081-437b-880e-a509fd9d68e3",
   "metadata": {},
   "outputs": [
    {
     "data": {
      "text/plain": [
       "True"
      ]
     },
     "execution_count": 2,
     "metadata": {},
     "output_type": "execute_result"
    }
   ],
   "source": [
    "# 2) a) \n",
    "x=lambda string1:string1[0].isalpha()\n",
    "\n",
    "x(\"Str\")"
   ]
  },
  {
   "cell_type": "code",
   "execution_count": 3,
   "id": "f415f70b-773e-4219-b709-89ffcb7ce8fb",
   "metadata": {},
   "outputs": [
    {
     "data": {
      "text/plain": [
       "True"
      ]
     },
     "execution_count": 3,
     "metadata": {},
     "output_type": "execute_result"
    }
   ],
   "source": [
    "# 2) b) \n",
    "x=lambda string1:string1.isnumeric()\n",
    "\n",
    "x(\"1\")"
   ]
  },
  {
   "cell_type": "code",
   "execution_count": 4,
   "id": "bde61f8d-ca2d-450f-a62f-5636dad41c74",
   "metadata": {},
   "outputs": [
    {
     "name": "stdout",
     "output_type": "stream",
     "text": [
      "[('orange', 80), ('mango', 99), ('grapes', 1000)]\n"
     ]
    }
   ],
   "source": [
    "# 2) c) \n",
    "def listsort(list2):\n",
    "    list2.sort(key = lambda x: x[1])\n",
    "    return list2\n",
    "\n",
    "print(listsort([(\"mango\",99),(\"orange\",80), (\"grapes\", 1000)]))"
   ]
  },
  {
   "cell_type": "code",
   "execution_count": 5,
   "id": "12e9c892-88db-49cc-913e-13774a823b98",
   "metadata": {},
   "outputs": [
    {
     "name": "stdout",
     "output_type": "stream",
     "text": [
      "True\n",
      "False\n",
      "False\n",
      "True\n",
      "False\n",
      "False\n",
      "False\n",
      "False\n",
      "True\n",
      "False\n"
     ]
    },
    {
     "data": {
      "text/plain": [
       "[None, None, None, None, None, None, None, None, None, None]"
      ]
     },
     "execution_count": 5,
     "metadata": {},
     "output_type": "execute_result"
    }
   ],
   "source": [
    "# 2) d) \n",
    "list(map(lambda x: print(x**.5 % 1 == 0),[1,2,3,4,5,6,7,8,9,10]))\n"
   ]
  },
  {
   "cell_type": "code",
   "execution_count": 6,
   "id": "1b6da5fb-2d36-4a17-aeef-76de3bb7ba8c",
   "metadata": {},
   "outputs": [
    {
     "data": {
      "text/plain": [
       "[1.0,\n",
       " 1.2599210498948734,\n",
       " 1.4422495703074083,\n",
       " 1.5874010519681996,\n",
       " 1.7099759466766968,\n",
       " 1.8171205928321394,\n",
       " 1.9129311827723894,\n",
       " 2.0,\n",
       " 2.080083823051904,\n",
       " 2.1544346900318834]"
      ]
     },
     "execution_count": 6,
     "metadata": {},
     "output_type": "execute_result"
    }
   ],
   "source": [
    "# 2) e)\n",
    "import numpy as np\n",
    "list(map(lambda x: np.cbrt(x),[1,2,3,4,5,6,7,8,9,10]))"
   ]
  },
  {
   "cell_type": "code",
   "execution_count": 7,
   "id": "df4b1c92-1cbe-473d-891b-eae152306e5a",
   "metadata": {},
   "outputs": [
    {
     "data": {
      "text/plain": [
       "True"
      ]
     },
     "execution_count": 7,
     "metadata": {},
     "output_type": "execute_result"
    }
   ],
   "source": [
    "# 2) f) \n",
    "iseven=lambda x: x%2==0\n",
    "iseven(2)"
   ]
  },
  {
   "cell_type": "code",
   "execution_count": 8,
   "id": "d1796e97-f13a-4d68-a5c2-65b5bbd44fab",
   "metadata": {},
   "outputs": [
    {
     "data": {
      "text/plain": [
       "[1, 3, 5, 7, 9]"
      ]
     },
     "execution_count": 8,
     "metadata": {},
     "output_type": "execute_result"
    }
   ],
   "source": [
    "# 2) g) \n",
    "[i for i in range(10) if i%2!=0  ]\n"
   ]
  },
  {
   "cell_type": "code",
   "execution_count": 9,
   "id": "87bd60e4-4792-4db0-92a6-6717ebefb3d3",
   "metadata": {},
   "outputs": [
    {
     "name": "stdout",
     "output_type": "stream",
     "text": [
      "[1, 2, 3, 4, 5, 6]\n",
      "[-1, -2, -3, -4, -5]\n"
     ]
    }
   ],
   "source": [
    "# 2) h) \n",
    "positives=list(filter(lambda x:x>0 , [1,2,3,4,5,6,-1,-2,-3,-4,-5,0]))\n",
    "\n",
    "negatives=list(filter(lambda x:x<0 , [1,2,3,4,5,6,-1,-2,-3,-4,-5,0]))\n",
    "\n",
    "print(positives)\n",
    "print(negatives)"
   ]
  },
  {
   "cell_type": "code",
   "execution_count": null,
   "id": "957b6bd1-b635-4e9b-8d3a-9f941acc2221",
   "metadata": {},
   "outputs": [],
   "source": []
  }
 ],
 "metadata": {
  "kernelspec": {
   "display_name": "Python 3 (ipykernel)",
   "language": "python",
   "name": "python3"
  },
  "language_info": {
   "codemirror_mode": {
    "name": "ipython",
    "version": 3
   },
   "file_extension": ".py",
   "mimetype": "text/x-python",
   "name": "python",
   "nbconvert_exporter": "python",
   "pygments_lexer": "ipython3",
   "version": "3.10.8"
  }
 },
 "nbformat": 4,
 "nbformat_minor": 5
}
