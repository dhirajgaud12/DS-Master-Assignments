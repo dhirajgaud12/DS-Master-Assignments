{
 "cells": [
  {
   "cell_type": "code",
   "execution_count": 20,
   "id": "bd7d2712-16f9-41fe-a804-bfd51ca4a7fa",
   "metadata": {},
   "outputs": [
    {
     "name": "stdout",
     "output_type": "stream",
     "text": [
      "6 0 False True True\n",
      "4 2 True True False\n",
      "Valid Password\n"
     ]
    }
   ],
   "source": [
    "def passvalidate(string1):\n",
    "    countlowercase=0\n",
    "    countuppercase=0\n",
    "    splcharcount=0\n",
    "    casematchpass=False\n",
    "    containnum=False\n",
    "    \n",
    "    for i in string1:\n",
    "        if i.islower():\n",
    "            countlowercase=countlowercase+1\n",
    "        elif i.isupper():\n",
    "            countuppercase=countuppercase+1\n",
    "        if i.isnumeric():\n",
    "            containnum=True\n",
    "            \n",
    "    if countlowercase>=2 and countuppercase>=2:\n",
    "        casematchpass=True\n",
    "    \n",
    "    if (casematchpass==True and containnum==True and not string1.isalnum() and len(string1)==10):\n",
    "        return \"Valid Password\"\n",
    "    else:\n",
    "        return \"Invalid Password\"\n",
    "    \n",
    "\n",
    "passvalidate(\"string1\")    \n",
    "print(passvalidate(\"STr!@#ng1s\"))"
   ]
  },
  {
   "cell_type": "code",
   "execution_count": 22,
   "id": "b365c91e-87eb-4b62-8b52-1e7dc5e7a2ee",
   "metadata": {},
   "outputs": [
    {
     "data": {
      "text/plain": [
       "True"
      ]
     },
     "execution_count": 22,
     "metadata": {},
     "output_type": "execute_result"
    }
   ],
   "source": [
    "x=lambda string1:string1[0].isalpha()\n",
    "\n",
    "x(\"Str\")"
   ]
  },
  {
   "cell_type": "code",
   "execution_count": 27,
   "id": "650d8d11-28fa-4add-8b1e-071bbeab8220",
   "metadata": {},
   "outputs": [
    {
     "data": {
      "text/plain": [
       "True"
      ]
     },
     "execution_count": 27,
     "metadata": {},
     "output_type": "execute_result"
    }
   ],
   "source": [
    "x=lambda string1:string1.isnumeric()\n",
    "\n",
    "x(\"1\")"
   ]
  },
  {
   "cell_type": "code",
   "execution_count": 34,
   "id": "6c40ee20-d1d5-4b49-875d-78c254c3d4b9",
   "metadata": {},
   "outputs": [
    {
     "name": "stdout",
     "output_type": "stream",
     "text": [
      "[('orange', 80), ('mango', 99), ('grapes', 1000)]\n"
     ]
    }
   ],
   "source": [
    "\n",
    "def listsort(list2):\n",
    "    list2.sort(key = lambda x: x[1])\n",
    "    return list2\n",
    "\n",
    "print(listsort([(\"mango\",99),(\"orange\",80), (\"grapes\", 1000)]))"
   ]
  },
  {
   "cell_type": "code",
   "execution_count": 43,
   "id": "ec5db2d4-b7b8-4457-9878-5719f7a4cc54",
   "metadata": {},
   "outputs": [
    {
     "name": "stdout",
     "output_type": "stream",
     "text": [
      "True\n",
      "False\n",
      "False\n",
      "True\n",
      "False\n",
      "False\n",
      "False\n",
      "False\n",
      "True\n",
      "False\n"
     ]
    }
   ],
   "source": [
    "list(map(lambda x: print(x**.5 % 1 == 0),[1,2,3,4,5,6,7,8,9,10]))\n",
    "\n"
   ]
  },
  {
   "cell_type": "code",
   "execution_count": 3,
   "id": "e46534b4-ac99-44ef-b7aa-734f1df28aaf",
   "metadata": {},
   "outputs": [
    {
     "data": {
      "text/plain": [
       "[1.0,\n",
       " 1.2599210498948734,\n",
       " 1.4422495703074083,\n",
       " 1.5874010519681996,\n",
       " 1.7099759466766968,\n",
       " 1.8171205928321394,\n",
       " 1.9129311827723894,\n",
       " 2.0,\n",
       " 2.080083823051904,\n",
       " 2.1544346900318834]"
      ]
     },
     "execution_count": 3,
     "metadata": {},
     "output_type": "execute_result"
    }
   ],
   "source": [
    "import numpy as np\n",
    "list(map(lambda x: np.cbrt(x),[1,2,3,4,5,6,7,8,9,10]))"
   ]
  },
  {
   "cell_type": "code",
   "execution_count": 47,
   "id": "abe76d5b-cbab-40d1-8b34-69e92f99faa6",
   "metadata": {},
   "outputs": [
    {
     "data": {
      "text/plain": [
       "True"
      ]
     },
     "execution_count": 47,
     "metadata": {},
     "output_type": "execute_result"
    }
   ],
   "source": [
    "iseven=lambda x: x%2==0\n",
    "\n",
    "iseven(2)"
   ]
  },
  {
   "cell_type": "code",
   "execution_count": 50,
   "id": "aa162a9e-258d-405c-994c-1fd9d694cb85",
   "metadata": {},
   "outputs": [
    {
     "data": {
      "text/plain": [
       "[1, 3, 5, 7, 9]"
      ]
     },
     "execution_count": 50,
     "metadata": {},
     "output_type": "execute_result"
    }
   ],
   "source": [
    "[i for i in range(10) if i%2!=0  ]"
   ]
  },
  {
   "cell_type": "code",
   "execution_count": 53,
   "id": "2ce19871-b98f-4f1f-b1de-c26b424599c0",
   "metadata": {},
   "outputs": [
    {
     "name": "stdout",
     "output_type": "stream",
     "text": [
      "[1, 2, 3, 4, 5, 6]\n",
      "[-1, -2, -3, -4, -5]\n"
     ]
    }
   ],
   "source": [
    "positives=list(filter(lambda x:x>0 , [1,2,3,4,5,6,-1,-2,-3,-4,-5,0]))\n",
    "\n",
    "negatives=list(filter(lambda x:x<0 , [1,2,3,4,5,6,-1,-2,-3,-4,-5,0]))\n",
    "\n",
    "print(positives)\n",
    "print(negatives)\n"
   ]
  },
  {
   "cell_type": "code",
   "execution_count": null,
   "id": "2dde4efe-adb9-46a8-a5d1-ee6c61d59036",
   "metadata": {},
   "outputs": [],
   "source": []
  }
 ],
 "metadata": {
  "kernelspec": {
   "display_name": "Python 3 (ipykernel)",
   "language": "python",
   "name": "python3"
  },
  "language_info": {
   "codemirror_mode": {
    "name": "ipython",
    "version": 3
   },
   "file_extension": ".py",
   "mimetype": "text/x-python",
   "name": "python",
   "nbconvert_exporter": "python",
   "pygments_lexer": "ipython3",
   "version": "3.10.8"
  }
 },
 "nbformat": 4,
 "nbformat_minor": 5
}
