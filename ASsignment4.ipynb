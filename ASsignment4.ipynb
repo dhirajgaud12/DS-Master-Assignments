{
 "cells": [
  {
   "cell_type": "code",
   "execution_count": 13,
   "id": "77cac093-2e3c-4f3a-aafe-601e04532f06",
   "metadata": {},
   "outputs": [
    {
     "data": {
      "text/plain": [
       "[1, 3, 5, 7, 9, 11, 13, 15, 17, 19, 21, 23, 25]"
      ]
     },
     "execution_count": 13,
     "metadata": {},
     "output_type": "execute_result"
    }
   ],
   "source": [
    "# 1) def keyword is used to create a function\n",
    "def oddNum():\n",
    "    listint=[]\n",
    "    for i in range(0,26):\n",
    "        if i%2 !=0:\n",
    "            listint.append(i)\n",
    "    return listint\n",
    "\n",
    "oddNum()"
   ]
  },
  {
   "cell_type": "code",
   "execution_count": 14,
   "id": "a284ed57-2da7-4751-8771-9ae9ab292936",
   "metadata": {},
   "outputs": [],
   "source": [
    "# 2) *args is used in functions for variable length arguments in function for tuple. \n",
    "# **kwargs is used for variable length argument with dictionary"
   ]
  },
  {
   "cell_type": "code",
   "execution_count": 19,
   "id": "46537363-5ee1-4feb-b95e-1f4dc385f377",
   "metadata": {},
   "outputs": [
    {
     "data": {
      "text/plain": [
       "tuple"
      ]
     },
     "execution_count": 19,
     "metadata": {},
     "output_type": "execute_result"
    }
   ],
   "source": [
    "def test(*args):\n",
    "    return args\n",
    "\n",
    "test(1,2,3,4)\n"
   ]
  },
  {
   "cell_type": "code",
   "execution_count": 18,
   "id": "8db3eb91-60fb-4199-8537-ab1cfe2d0ee7",
   "metadata": {},
   "outputs": [
    {
     "data": {
      "text/plain": [
       "{'a': 1, 'b': 2, 'c': 3, 'd': 4}"
      ]
     },
     "execution_count": 18,
     "metadata": {},
     "output_type": "execute_result"
    }
   ],
   "source": [
    "def test2(**kwargs):\n",
    "    return kwargs\n",
    "\n",
    "test2(a=1,b=2,c=3,d=4)"
   ]
  },
  {
   "cell_type": "code",
   "execution_count": 22,
   "id": "6c8d2b7d-001e-435e-aef5-5ecc099b9a33",
   "metadata": {},
   "outputs": [
    {
     "name": "stdout",
     "output_type": "stream",
     "text": [
      "2\n",
      "4\n",
      "6\n",
      "8\n",
      "10\n"
     ]
    }
   ],
   "source": [
    "# 3) Iterator returns a control from where we can iterate on the values of a multiple value datatype\n",
    "# the iter() method is used for initializing the iterator\n",
    "# the next () method is used for accessing the iterator values\n",
    "\n",
    "list1=[2, 4, 6, 8, 10, 12, 14, 16, 18, 20]\n",
    "\n",
    "myiter = iter(list1)\n",
    "for i in range(0,5):\n",
    "    print(next(myiter))\n",
    "    "
   ]
  },
  {
   "cell_type": "code",
   "execution_count": 6,
   "id": "ba0c8557-81d3-4c8e-969d-1584235f99c4",
   "metadata": {},
   "outputs": [
    {
     "name": "stdout",
     "output_type": "stream",
     "text": [
      "0\n",
      "2\n",
      "4\n",
      "6\n",
      "8\n",
      "10\n"
     ]
    }
   ],
   "source": [
    "# 4) generrator function is where we get the ouput one by one instead of all at once. \n",
    "# We can achiveve generator function by using yield keyword. \n",
    "\n",
    "def test3(n):\n",
    "    j=0\n",
    "    for i in range(n):\n",
    "        i=i*2\n",
    "        j=i\n",
    "        yield j\n",
    "        \n",
    "\n",
    "\n",
    "for i in test3(6):\n",
    "    print(i)"
   ]
  },
  {
   "cell_type": "code",
   "execution_count": 47,
   "id": "cc5b4969-ee08-413c-b8cd-38223e7cc7c5",
   "metadata": {},
   "outputs": [
    {
     "name": "stdout",
     "output_type": "stream",
     "text": [
      "2\n",
      "3\n",
      "5\n",
      "7\n",
      "11\n",
      "13\n",
      "17\n",
      "19\n",
      "23\n",
      "29\n",
      "31\n",
      "37\n",
      "41\n",
      "43\n",
      "47\n",
      "53\n",
      "59\n",
      "61\n",
      "67\n",
      "71\n"
     ]
    }
   ],
   "source": [
    "# 5) \n",
    "def getNextPrime(n):\n",
    "    for i in range(2,n+1):\n",
    "        count=2\n",
    "        for j in range(1,i):\n",
    "            if(i%j!=0):\n",
    "                count=count+1\n",
    "            if(count==i):\n",
    "                count=i\n",
    "                yield count\n",
    "                \n",
    "itr=getNextPrime(2000)\n",
    "\n",
    "\n",
    "for i in range(0,20):\n",
    "    val=next(itr)                \n",
    "    print(val)"
   ]
  },
  {
   "cell_type": "code",
   "execution_count": null,
   "id": "4b5d3411-a133-4b2b-89ae-e285401a9afd",
   "metadata": {},
   "outputs": [],
   "source": []
  }
 ],
 "metadata": {
  "kernelspec": {
   "display_name": "Python 3 (ipykernel)",
   "language": "python",
   "name": "python3"
  },
  "language_info": {
   "codemirror_mode": {
    "name": "ipython",
    "version": 3
   },
   "file_extension": ".py",
   "mimetype": "text/x-python",
   "name": "python",
   "nbconvert_exporter": "python",
   "pygments_lexer": "ipython3",
   "version": "3.10.8"
  }
 },
 "nbformat": 4,
 "nbformat_minor": 5
}
