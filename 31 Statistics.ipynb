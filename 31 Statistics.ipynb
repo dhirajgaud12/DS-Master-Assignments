{
 "cells": [
  {
   "cell_type": "markdown",
   "id": "dfbbfe7c-2dd5-467e-92b7-b0db8b97d9be",
   "metadata": {},
   "source": [
    "1) Statistics is the science of collecting,organizing and analyzing data"
   ]
  },
  {
   "cell_type": "markdown",
   "id": "5c06b2a9-edf2-4be5-b2dd-6e0458be621a",
   "metadata": {},
   "source": [
    "2) Types of statistics - \n",
    "    a) Descriptive statistics - It consists of organizing and summarizing the data.\n",
    "    Eg - Common height of students\n",
    "    b) Inferential stats- It consists of data that is measured to form a conclusion.\n",
    "    Eg - Election exit polls"
   ]
  },
  {
   "cell_type": "markdown",
   "id": "11a12a2d-da88-46e3-a734-45eafdd24cfa",
   "metadata": {},
   "source": [
    "3) Types of data- \n",
    "    a) Quantitative data - Numerical type of data. has two types in it.\n",
    "       i) Discrete - The data points are whole numbers\n",
    "       Eg - Number of people\n",
    "       ii) Continuous - the data points are fractions or decimal numbers.\n",
    "       Eg - Height in feet\n",
    "       \n",
    "    b) Qualitative data (Categorical) - Non numerical type of data. it also has 2 types \n",
    "        i) Nominal - Data points does not have any rank\n",
    "        eg - Gender\n",
    "        ii) Ordinal - Data can be ranked. \n",
    "        eg- Measurment of level of satisfaction like Highly satisfied,Satisfied, Not satisfied"
   ]
  },
  {
   "cell_type": "markdown",
   "id": "4b5dced2-6f7e-421a-b312-ca2158fa230d",
   "metadata": {},
   "source": [
    "4) Categories of data- \n",
    "    (i) Grading in exam: A+, A, B+, B, C+, C, D, E - Ordinal data\n",
    "    (ii) Colour of mangoes: yellow, green, orange, red - Nominal data\n",
    "    (iii) Height data of a class: [178.9, 179, 179.5, 176, 177.2, 178.3, 175.8,...] - Continuous data\n",
    "    (iv) Number of mangoes exported by a farm: [500, 600, 478, 672, ...] - Discrerte data"
   ]
  },
  {
   "cell_type": "markdown",
   "id": "4666f24f-ea4c-4fcc-b737-7cdbb50016df",
   "metadata": {},
   "source": [
    "5) Level of measurement - It tells us how precisely the variables are recorded. they are cumilative.\n",
    "    a) Nominal - City of birth of people\n",
    "    b) Ordinal - Expertise level like beginer, intermediate, Expert\n",
    "    c) Interval - Test scores of students\n",
    "    d) Ratio- Age of people"
   ]
  },
  {
   "cell_type": "markdown",
   "id": "051543f1-b600-4920-8be3-2f454b704b71",
   "metadata": {},
   "source": [
    "6) It is important to understand level of measurement because we can differentiate between the precision level of recorded data. Eg- Peoples weight - here the peoples weight is a variable where data is of Ratio level of measurement as the data has category, rank and equal interval with zero starting point."
   ]
  },
  {
   "cell_type": "markdown",
   "id": "e1fa132e-9c63-491c-966a-78adb02381d6",
   "metadata": {},
   "source": [
    "7) Nominal data differs from Ordinal data in sense that Nominal data we just have the category.The ordinal data has category as well as rank\n"
   ]
  },
  {
   "cell_type": "markdown",
   "id": "f95c3f5b-0d02-495a-9079-423ea624c7c0",
   "metadata": {},
   "source": [
    "8) Box plot is used to display data in terms of range."
   ]
  },
  {
   "cell_type": "markdown",
   "id": "9c9762e3-1931-44db-9e72-fdc7d48c88bf",
   "metadata": {},
   "source": [
    "9) a) Descriptive statistics - It consists of organizing and summarizing the data. Eg - Common height of students b) Inferential stats- It consists of data that is measured to form a conclusion. Eg - Election exit polls"
   ]
  },
  {
   "cell_type": "markdown",
   "id": "e6ddeae3-5cb3-42b3-a66b-c1d3b27f8e5c",
   "metadata": {},
   "source": [
    "10) Common central measures of tendancy are :- \n",
    "    Consider a dataset of salary of people.\n",
    "    a) Mean - IF the data has normal distribution then we can use mean\n",
    "    b) Median - If there are some people with high salary then data will be skewed so we can use median. We can find middle value or most typical value.\n",
    "    c) Mode - It is useful for  categorical and nominal data,not useful for continuous data.We can find most frequently occuring data or most common value.\n",
    "    Measures of variability are Used to describe the spread or distribution of data:- \n",
    "    a) Variance - Variance is used when you want to quantify the amount of variability in a data set. ie returns a number for total data variance.\n",
    "    b) Standard deviation - Used for identifying the difference between the mean and individual datapoints."
   ]
  },
  {
   "cell_type": "code",
   "execution_count": null,
   "id": "6647f393-8afc-4c99-933f-157a0eee2942",
   "metadata": {},
   "outputs": [],
   "source": []
  }
 ],
 "metadata": {
  "kernelspec": {
   "display_name": "Python 3 (ipykernel)",
   "language": "python",
   "name": "python3"
  },
  "language_info": {
   "codemirror_mode": {
    "name": "ipython",
    "version": 3
   },
   "file_extension": ".py",
   "mimetype": "text/x-python",
   "name": "python",
   "nbconvert_exporter": "python",
   "pygments_lexer": "ipython3",
   "version": "3.10.8"
  }
 },
 "nbformat": 4,
 "nbformat_minor": 5
}
