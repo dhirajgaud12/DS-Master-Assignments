{
 "cells": [
  {
   "cell_type": "markdown",
   "id": "16404d22-33ed-4146-988b-abc8920738d3",
   "metadata": {},
   "source": [
    "1) 3 Measures of central tendancy are \n",
    "    a) Mean\n",
    "    b) Median\n",
    "    c) Mode\n",
    "    "
   ]
  },
  {
   "cell_type": "markdown",
   "id": "1e34077c-81d6-4dfb-905f-0798512f6b4c",
   "metadata": {},
   "source": [
    "2) a) Mean - IF the data has normal distribution then we can use mean \n",
    "b) Median - If there are some people with high salary then data will be skewed so we can use median. We can find middle value or most typical value. \n",
    "c) Mode - It is useful for categorical and nominal data,not useful for continuous data.We can find most frequently occuring data or most common value."
   ]
  },
  {
   "cell_type": "code",
   "execution_count": 15,
   "id": "1c463625-231b-434b-b730-bc4aa448ec4c",
   "metadata": {},
   "outputs": [
    {
     "data": {
      "text/plain": [
       "177.01875"
      ]
     },
     "execution_count": 15,
     "metadata": {},
     "output_type": "execute_result"
    }
   ],
   "source": [
    "#3)\n",
    "import pandas as pd\n",
    "\n",
    "newlist=[178,177,176,177,178.2,178,175,179,180,175,178.9,176.2,177,172.5,178,176.5]\n",
    "\n",
    "newdf=pd.DataFrame(newlist)\n",
    "newdf[0].mean()"
   ]
  },
  {
   "cell_type": "code",
   "execution_count": 16,
   "id": "ca909e03-5bb5-46e7-9244-40bb23a9a38f",
   "metadata": {},
   "outputs": [
    {
     "data": {
      "text/plain": [
       "0    177.0\n",
       "dtype: float64"
      ]
     },
     "execution_count": 16,
     "metadata": {},
     "output_type": "execute_result"
    }
   ],
   "source": [
    "newdf.median()"
   ]
  },
  {
   "cell_type": "code",
   "execution_count": 17,
   "id": "51ca3c98-1b4b-4284-b077-97caddfd84a8",
   "metadata": {},
   "outputs": [
    {
     "data": {
      "text/html": [
       "<div>\n",
       "<style scoped>\n",
       "    .dataframe tbody tr th:only-of-type {\n",
       "        vertical-align: middle;\n",
       "    }\n",
       "\n",
       "    .dataframe tbody tr th {\n",
       "        vertical-align: top;\n",
       "    }\n",
       "\n",
       "    .dataframe thead th {\n",
       "        text-align: right;\n",
       "    }\n",
       "</style>\n",
       "<table border=\"1\" class=\"dataframe\">\n",
       "  <thead>\n",
       "    <tr style=\"text-align: right;\">\n",
       "      <th></th>\n",
       "      <th>0</th>\n",
       "    </tr>\n",
       "  </thead>\n",
       "  <tbody>\n",
       "    <tr>\n",
       "      <th>0</th>\n",
       "      <td>177.0</td>\n",
       "    </tr>\n",
       "    <tr>\n",
       "      <th>1</th>\n",
       "      <td>178.0</td>\n",
       "    </tr>\n",
       "  </tbody>\n",
       "</table>\n",
       "</div>"
      ],
      "text/plain": [
       "       0\n",
       "0  177.0\n",
       "1  178.0"
      ]
     },
     "execution_count": 17,
     "metadata": {},
     "output_type": "execute_result"
    }
   ],
   "source": [
    "newdf.mode()"
   ]
  },
  {
   "cell_type": "code",
   "execution_count": 18,
   "id": "5c0d3da0-9a75-4492-b58c-01672d21353d",
   "metadata": {},
   "outputs": [
    {
     "data": {
      "text/plain": [
       "0    1.847239\n",
       "dtype: float64"
      ]
     },
     "execution_count": 18,
     "metadata": {},
     "output_type": "execute_result"
    }
   ],
   "source": [
    "#4\n",
    "\n",
    "newerlist=[178,177,176,177,178.2,178,175,179,180,175,178.9,176.2,177,172.5,178,176.5]\n",
    "\n",
    "newerdf=pd.DataFrame(newerlist) \n",
    "newerdf.std()"
   ]
  },
  {
   "cell_type": "markdown",
   "id": "452a667e-b62d-432b-bee9-26727386afee",
   "metadata": {},
   "source": [
    "5) Range is difference in largest and smallest value in a dataset. \n",
    "    Variance is distance between each datapoint from the mean\n",
    "    Standarad deviation is the square root of variance\n",
    "    \n",
    "    "
   ]
  },
  {
   "cell_type": "code",
   "execution_count": 24,
   "id": "7a642dd5-a3af-4011-9692-7c6c39630c42",
   "metadata": {},
   "outputs": [
    {
     "name": "stdout",
     "output_type": "stream",
     "text": [
      "range is  0    7.5\n",
      "dtype: float64\n"
     ]
    }
   ],
   "source": [
    "#eg for 5th \n",
    "newerdfrange=newerdf.max()-newerdf.min()\n",
    "print(\"range is \",newerdfrange)"
   ]
  },
  {
   "cell_type": "code",
   "execution_count": 23,
   "id": "f52d6aa6-ebc5-4180-917e-6f04d91369da",
   "metadata": {},
   "outputs": [
    {
     "name": "stdout",
     "output_type": "stream",
     "text": [
      "Variance is  0    3.412292\n",
      "dtype: float64\n"
     ]
    }
   ],
   "source": [
    "print(\"Variance is \",newerdf.var())\n"
   ]
  },
  {
   "cell_type": "code",
   "execution_count": 25,
   "id": "1540d438-3514-41a3-8045-186b6d518ee8",
   "metadata": {},
   "outputs": [
    {
     "name": "stdout",
     "output_type": "stream",
     "text": [
      "Standard Deviation is  0    1.847239\n",
      "dtype: float64\n"
     ]
    }
   ],
   "source": [
    "print(\"Standard Deviation is \",newerdf.std())\n"
   ]
  },
  {
   "cell_type": "markdown",
   "id": "5fd53552-2827-4607-800d-57c1e5bedb70",
   "metadata": {},
   "source": [
    "6) Venn Diagram is a diagram consisting of circles used to show union,intersection,difference between 2 things."
   ]
  },
  {
   "cell_type": "markdown",
   "id": "c00faaa0-ed5c-4505-b1e8-9a248173215c",
   "metadata": {},
   "source": [
    "7) A = (2,3,4,5,6,7) & B = (0,2,6,8,10)\n",
    " (i) A intersection B - 2,6\n",
    "(ii) A ⋃ B - 2,3,4,5,6,7,8,10"
   ]
  },
  {
   "cell_type": "markdown",
   "id": "a5edadad-32a5-4a4b-984e-9d7cdba1fafd",
   "metadata": {},
   "source": [
    "8) Skewness in data is measurement of distortion like if its symmetical or assymetrical"
   ]
  },
  {
   "cell_type": "markdown",
   "id": "0747157e-a8f7-40da-a9ac-a5b054125623",
   "metadata": {},
   "source": [
    "9) If data is right skewed then the median will be less than the mean and it will be on the right side from the mean."
   ]
  },
  {
   "cell_type": "markdown",
   "id": "4a5d67da-fb98-465c-8391-a813244d69b6",
   "metadata": {},
   "source": [
    "10) Covariance - How much two variables may vary together.Used in showing the direction of the variables ie if its positive or negative. Eg- shows if height and wiehgt how do they vary. Like if weight increases generally height also increases for average person. \n",
    "   \n",
    "    Correleation - Indicates how strongly 2 varaiables are related. How interdependent they are.\n",
    "    Used to measure the percent of change in 2 things like for height and weight. How much percent height should increase with increse in weight for average person."
   ]
  },
  {
   "cell_type": "code",
   "execution_count": 26,
   "id": "ddf59dd2-4143-403a-bd12-91ea00e7f0cb",
   "metadata": {},
   "outputs": [
    {
     "data": {
      "text/plain": [
       "0    177.01875\n",
       "dtype: float64"
      ]
     },
     "execution_count": 26,
     "metadata": {},
     "output_type": "execute_result"
    }
   ],
   "source": [
    "#11) Calculating sample mean\n",
    "# Formulae is - x̄ = ( Σ xi ) / n\n",
    "\n",
    "\n",
    "\n",
    "newerdf.mean()"
   ]
  },
  {
   "cell_type": "markdown",
   "id": "306a4a38-fad7-4aca-8c16-62da0c99adb9",
   "metadata": {},
   "source": [
    "12) For normal distribution the mean is equal to median and the mean is equal to the mode and the meadian and mode are equal. All lie at the peak of the curve."
   ]
  },
  {
   "cell_type": "markdown",
   "id": "f586907f-479d-4ba2-8262-17ce7d6bb8e6",
   "metadata": {},
   "source": [
    "13) Covariance shows the direction of relation of change ie positive or negative. Correlation shows how strongly 2 variables are related "
   ]
  },
  {
   "cell_type": "markdown",
   "id": "2b1b337b-4704-40a2-bd60-a67970485f25",
   "metadata": {},
   "source": [
    "14) i) Outliers affect on measures of central tendency- \n",
    "    a) Mean is susceptible to outliers.\n",
    "    b) Median is less susceptible to outliers.\n",
    "    c) Mode is less susceptible to outliers.\n",
    "    ii) Variance - \n",
    "    a) Range - susceptible to outliers.\n",
    "    b) Standard deviation - susceptible to outliers.\n",
    "    c) Variance - susceptible to outliers.\n",
    "    d) Interquartile range - less susceptible to outliers.\n",
    "    e) Coefficient of variation - susceptible to outliers."
   ]
  },
  {
   "cell_type": "code",
   "execution_count": 29,
   "id": "d58f039a-9b19-4f71-9d93-d04ded3fd641",
   "metadata": {},
   "outputs": [
    {
     "data": {
      "text/plain": [
       "0    56.0\n",
       "dtype: float64"
      ]
     },
     "execution_count": 29,
     "metadata": {},
     "output_type": "execute_result"
    }
   ],
   "source": [
    "#Eg - marks of students out of 100\n",
    "studentmarks=[45,34,67,78]\n",
    "studdf=pd.DataFrame(studentmarks)\n",
    "\n",
    "studdf.mean()"
   ]
  },
  {
   "cell_type": "code",
   "execution_count": 30,
   "id": "e7bd2580-5ff9-4f08-bef3-536ea9fb2a40",
   "metadata": {},
   "outputs": [
    {
     "data": {
      "text/plain": [
       "0    20.08316\n",
       "dtype: float64"
      ]
     },
     "execution_count": 30,
     "metadata": {},
     "output_type": "execute_result"
    }
   ],
   "source": [
    "studdf.std()"
   ]
  },
  {
   "cell_type": "code",
   "execution_count": 33,
   "id": "5b2ffb08-932e-44c0-ba7f-aadafcdaa6d9",
   "metadata": {},
   "outputs": [
    {
     "name": "stderr",
     "output_type": "stream",
     "text": [
      "/tmp/ipykernel_77/3215742182.py:3: FutureWarning: The frame.append method is deprecated and will be removed from pandas in a future version. Use pandas.concat instead.\n",
      "  studdf=studdf.append([3,98])\n"
     ]
    },
    {
     "data": {
      "text/plain": [
       "0    54.166667\n",
       "dtype: float64"
      ]
     },
     "execution_count": 33,
     "metadata": {},
     "output_type": "execute_result"
    }
   ],
   "source": [
    "#after adding outliers\n",
    "\n",
    "studdf=studdf.append([3,98])\n",
    "\n",
    "studdf.mean()"
   ]
  },
  {
   "cell_type": "code",
   "execution_count": 34,
   "id": "7fda5069-a040-4e0b-b276-be4fb323078a",
   "metadata": {},
   "outputs": [
    {
     "data": {
      "text/plain": [
       "0    33.949472\n",
       "dtype: float64"
      ]
     },
     "execution_count": 34,
     "metadata": {},
     "output_type": "execute_result"
    }
   ],
   "source": [
    "studdf.std()"
   ]
  },
  {
   "cell_type": "code",
   "execution_count": null,
   "id": "9e68cf01-fe55-473b-99a5-74cbac112da4",
   "metadata": {},
   "outputs": [],
   "source": []
  }
 ],
 "metadata": {
  "kernelspec": {
   "display_name": "Python 3 (ipykernel)",
   "language": "python",
   "name": "python3"
  },
  "language_info": {
   "codemirror_mode": {
    "name": "ipython",
    "version": 3
   },
   "file_extension": ".py",
   "mimetype": "text/x-python",
   "name": "python",
   "nbconvert_exporter": "python",
   "pygments_lexer": "ipython3",
   "version": "3.10.8"
  }
 },
 "nbformat": 4,
 "nbformat_minor": 5
}
