{
 "cells": [
  {
   "cell_type": "markdown",
   "id": "3cd5e7ea-8a49-42ac-b5a1-9cf054f35c42",
   "metadata": {},
   "source": [
    "1) Multithreading is where we create multiple threads where each thread is executing along with the other threads.\n",
    "This way we can save execution time as we are working with multiple threads on single CPU core. \n",
    "\n",
    "Threading is the module used to work with threads."
   ]
  },
  {
   "cell_type": "markdown",
   "id": "078c7423-2a7b-4df3-9bdc-150e82ecf635",
   "metadata": {},
   "source": [
    "2)  Threading module is used to create threads in python. With this we can write code that utilizes thread functionalities.\n",
    "    a) activeCount- Returns the total number of active threads at the current time\n",
    "    b) currentThread - Returns the cuurently active thread\n",
    "    c) enumerate- for a iterable object the enumerate provides a counter, and returns a enumerate object. We can use this in loops then   "
   ]
  },
  {
   "cell_type": "markdown",
   "id": "70dfa3a2-1c42-4579-a07d-0321e4593902",
   "metadata": {},
   "source": [
    "3) a) run () - run is used to run the current thread, if the thread is already started. \n",
    "   b) start() - start is used to create a new thread and start it\n",
    "   c) join () - blocks the calling thread until the thread whose join() method is called is terminated.\n",
    "   d) isAlive() - checks whether thread is running or not. \n",
    "   \n",
    "   "
   ]
  },
  {
   "cell_type": "code",
   "execution_count": 4,
   "id": "a7a7e0f6-f6c2-4632-a327-ef5ec35edda1",
   "metadata": {},
   "outputs": [
    {
     "name": "stdout",
     "output_type": "stream",
     "text": [
      "0\n",
      "1\n",
      "4\n",
      "9\n",
      "16\n",
      "25\n",
      "36\n",
      "49\n",
      "64\n",
      "81\n"
     ]
    }
   ],
   "source": [
    "# 4) a) \n",
    "import threading\n",
    "\n",
    "def squarenum(nums):\n",
    "    print( nums**2)\n",
    "\n",
    "t1=[threading.Thread(target=squarenum, args=(i,)) for i in range(10)]\n",
    "\n",
    "for i in t1:\n",
    "    i.start()\n",
    "    \n",
    "    \n",
    "    "
   ]
  },
  {
   "cell_type": "code",
   "execution_count": 6,
   "id": "24ab1d8c-a948-4441-95d2-72c6bb7c09d3",
   "metadata": {},
   "outputs": [
    {
     "name": "stdout",
     "output_type": "stream",
     "text": [
      "0\n",
      "1\n",
      "8\n",
      "27\n",
      "64\n",
      "125\n",
      "216\n",
      "343\n",
      "512\n",
      "729\n"
     ]
    }
   ],
   "source": [
    "# 4) b) \n",
    "import threading \n",
    "\n",
    "def cubenums(num):\n",
    "    print (num**3)\n",
    "\n",
    "t2=[threading.Thread(target=cubenums, args=(i,)) for i in range (10)]\n",
    "\n",
    "for i in t2:\n",
    "    i.start()"
   ]
  },
  {
   "cell_type": "markdown",
   "id": "11ddf2a6-e912-472b-949e-ef74658acb33",
   "metadata": {},
   "source": [
    "# 5) Advantages of multithreading  - \n",
    "\n",
    "Improved performance and concurrency\n",
    "Simultaneous access to multiple threads\n",
    "Reduced number of cores required as same thing can be done on different threads underlying same core\n",
    "\n",
    "Disadvantages of multithreading  - \n",
    "\n",
    "Difficult to write code\n",
    "Difficult to debug, Testing\n",
    "Difficult to manage concurrency "
   ]
  },
  {
   "cell_type": "markdown",
   "id": "0b835b87-3178-4edb-9df7-2e0abc135baf",
   "metadata": {},
   "source": [
    "6) a) Deadlocks is condition where there are threads/processes that are depended on each other and they are waiting for each other to complete. Here no one process is able to complete because of the dependency and all these are occupying resources.\n",
    "\n",
    "b) Race condition is where 2 or more threads try to access same variable at same time. this can cause concurrency issues such as unexpected values to be updated due to wrong execution order.\n"
   ]
  }
 ],
 "metadata": {
  "kernelspec": {
   "display_name": "Python 3 (ipykernel)",
   "language": "python",
   "name": "python3"
  },
  "language_info": {
   "codemirror_mode": {
    "name": "ipython",
    "version": 3
   },
   "file_extension": ".py",
   "mimetype": "text/x-python",
   "name": "python",
   "nbconvert_exporter": "python",
   "pygments_lexer": "ipython3",
   "version": "3.10.8"
  }
 },
 "nbformat": 4,
 "nbformat_minor": 5
}
