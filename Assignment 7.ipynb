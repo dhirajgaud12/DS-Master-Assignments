{
 "cells": [
  {
   "cell_type": "code",
   "execution_count": 7,
   "id": "5edf5792-fc0b-49e6-ad73-f3a3b3259251",
   "metadata": {},
   "outputs": [
    {
     "name": "stdout",
     "output_type": "stream",
     "text": [
      "[1, 2, 3, 4, 44, 55, 66, 34, 56, 78, 89, 34, 1, 2, 3, 1, 4, 34, 55, 67, 78, 89, 45, 22, 61, 34, 56]\n"
     ]
    },
    {
     "data": {
      "text/plain": [
       "4134711838987085478833841242112000"
      ]
     },
     "execution_count": 7,
     "metadata": {},
     "output_type": "execute_result"
    }
   ],
   "source": [
    "import functools\n",
    "\n",
    "def listproduct(list1):\n",
    "    newlist=[]\n",
    "    \n",
    "    for i in list1:\n",
    "        if type(i)==int:\n",
    "            newlist.append(i)\n",
    "        elif type(i)==list:\n",
    "            for j in i:\n",
    "                if type(j)==int:\n",
    "                    newlist.append(j)\n",
    "        elif type(i)==tuple:\n",
    "            for j in i:\n",
    "                if type(j)==int:\n",
    "                     newlist.append(j)\n",
    "        elif type(i)==set:\n",
    "            for j in i:\n",
    "                if type(j)==int:\n",
    "                     newlist.append(j)\n",
    "        elif type(i)==dict:\n",
    "            \n",
    "           \n",
    "            for m in i.keys():\n",
    "                if type(m)==int:\n",
    "                    newlist.append(m)\n",
    "            \n",
    "            for j in i.values():\n",
    "                if type(j)==int:\n",
    "                     newlist.append(j)\n",
    "                elif type(j)==list or type(j)==tuple:\n",
    "                    for l in j:\n",
    "                        if type(l)==int:\n",
    "                            newlist.append(l)\n",
    "    print(newlist)        \n",
    "    return functools.reduce(lambda x,y:x*y, newlist)\n",
    "\n",
    "list1 = [1,2,3,4, [44,55,66, True], False, (34,56,78,89,34), {1,2,3,3,2,1}, {1:34, \"key2\": [55, 67, 78, 89], 4: (45,\n",
    "22, 61, 34)}, [56, 'data science'], 'Machine Learning']\n",
    "\n",
    "listproduct(list1)"
   ]
  },
  {
   "cell_type": "code",
   "execution_count": 75,
   "id": "8db812d0-490d-4dbf-b250-88b7dfeb0822",
   "metadata": {},
   "outputs": [
    {
     "name": "stdout",
     "output_type": "stream",
     "text": [
      "r\n",
      "None\n",
      "d\n",
      "z\n",
      "m\n",
      "g\n",
      "None\n",
      "g\n",
      "l\n",
      "None\n",
      "y\n",
      "v\n",
      "x\n",
      "l\n",
      "n\n",
      "v\n",
      "None\n",
      "z\n",
      "None\n",
      "w\n",
      "z\n",
      "g\n",
      "z\n",
      "None\n",
      "h\n",
      "x\n",
      "r\n",
      "v\n",
      "m\n",
      "g\n",
      "r\n",
      "h\n",
      "g\n",
      "None\n"
     ]
    }
   ],
   "source": [
    "def encrypt(string1):\n",
    "    string1=string1.lower()\n",
    "    enc_string=''\n",
    "    dict1={'a':'z', 'b':'y', 'c':'x', 'd':'w', 'e':'v', 'f':'u', 'g':'t', 'h':'s', 'i':'r', 'j':'q', 'k':'p', 'l':'o', 'm':'n', 'n':'m', 'o':'l', 'p':'k', 'q':'j', 'r':'i', 's':'h', 't':'g', 'u':'f', 'v':'e', 'w':'d', 'x':'c', 'y':'b', 'z':'a'}\n",
    "    for i in string1:\n",
    "        print(str(dict1.get(i)))\n",
    "        #enc_string=enc_string+dict[i]\n",
    "    \n",
    "                    \n",
    "string1=\"I want to become a Data Scientist.\"    \n",
    "encrypt(string1)"
   ]
  },
  {
   "cell_type": "code",
   "execution_count": null,
   "id": "8399a35e-5ca5-48cf-a729-b62f09de006c",
   "metadata": {},
   "outputs": [],
   "source": []
  }
 ],
 "metadata": {
  "kernelspec": {
   "display_name": "Python 3 (ipykernel)",
   "language": "python",
   "name": "python3"
  },
  "language_info": {
   "codemirror_mode": {
    "name": "ipython",
    "version": 3
   },
   "file_extension": ".py",
   "mimetype": "text/x-python",
   "name": "python",
   "nbconvert_exporter": "python",
   "pygments_lexer": "ipython3",
   "version": "3.10.8"
  }
 },
 "nbformat": 4,
 "nbformat_minor": 5
}
