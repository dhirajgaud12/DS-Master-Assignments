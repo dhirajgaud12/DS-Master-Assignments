{
 "cells": [
  {
   "cell_type": "code",
   "execution_count": 10,
   "id": "52a74e58-e776-49e2-b0e5-1dcaf50b961e",
   "metadata": {},
   "outputs": [
    {
     "data": {
      "text/plain": [
       "('Premeier', 60, 14)"
      ]
     },
     "execution_count": 10,
     "metadata": {},
     "output_type": "execute_result"
    }
   ],
   "source": [
    "# 1) \n",
    "class vehicle:\n",
    "    \n",
    "    def __init__(self,name_of_vehicle, max_speed, average_of_vehicle):\n",
    "        self.name_of_vehicle=name_of_vehicle\n",
    "        self.max_speed=max_speed\n",
    "        self.average_of_vehicle=average_of_vehicle\n",
    "        \n",
    "        \n",
    "    def getvalues(self):\n",
    "        return self.name_of_vehicle,self.max_speed,self.average_of_vehicle\n",
    "    \n",
    "vehicl= vehicle(\"Premeier\",60,14)\n",
    "vehicl.getvalues()"
   ]
  },
  {
   "cell_type": "code",
   "execution_count": 11,
   "id": "3e6e63bb-6845-4bdd-8eec-105ba3d035cd",
   "metadata": {},
   "outputs": [
    {
     "data": {
      "text/plain": [
       "(5, 'Premeier')"
      ]
     },
     "execution_count": 11,
     "metadata": {},
     "output_type": "execute_result"
    }
   ],
   "source": [
    "# 2) \n",
    "class car(vehicle):\n",
    "    \n",
    "    def seating_capacity(self,capacity):\n",
    "        return capacity,self.name_of_vehicle\n",
    "\n",
    "\n",
    "cr= car(\"Premeier\",60,14)\n",
    "cr.seating_capacity(5)\n"
   ]
  },
  {
   "cell_type": "code",
   "execution_count": 12,
   "id": "9f101bdc-e623-45dc-9cae-6b8d7b0616df",
   "metadata": {},
   "outputs": [
    {
     "name": "stdout",
     "output_type": "stream",
     "text": [
      "Parent 1 class\n",
      "Parent 2 class\n",
      "Child class\n"
     ]
    }
   ],
   "source": [
    "# 3) Multiple inheritance is where a class inherits from more than one parent class\n",
    "\n",
    "class a:\n",
    "    def test(self):\n",
    "        print(\"Parent 1 class\")\n",
    "        \n",
    "class b:\n",
    "    def test1(self):\n",
    "        print(\"Parent 2 class\")\n",
    "        \n",
    "class c(a,b):   \n",
    "    def test3(self):\n",
    "        print(\"Child class\")\n",
    "        \n",
    "\n",
    "classc=c()\n",
    "classc.test()\n",
    "classc.test1()\n",
    "classc.test3()"
   ]
  },
  {
   "cell_type": "code",
   "execution_count": 13,
   "id": "ed3bfd5f-d1a9-4f0f-ae13-505e7aca92b4",
   "metadata": {},
   "outputs": [
    {
     "data": {
      "text/plain": [
       "'Tester'"
      ]
     },
     "execution_count": 13,
     "metadata": {},
     "output_type": "execute_result"
    }
   ],
   "source": [
    "# 4) Getters and Setters methods are used for getting some class variable or to set some value on the variables\n",
    "\n",
    "class testing:\n",
    "    \n",
    "    def __init__(self,name):\n",
    "        self.name=name\n",
    "    \n",
    "    @property\n",
    "    def getdetails(self):\n",
    "        return self.name\n",
    "    \n",
    "    @getdetails.setter\n",
    "    def setdetails(self,name):\n",
    "        self.name=name\n",
    "        \n",
    "\n",
    "test=testing(\"\")\n",
    "test.getdetails\n",
    "test.setdetails=\"Tester\"\n",
    "test.getdetails"
   ]
  },
  {
   "cell_type": "code",
   "execution_count": 14,
   "id": "a02a8d12-398c-4cb6-9938-a9baaa35da0e",
   "metadata": {},
   "outputs": [
    {
     "name": "stdout",
     "output_type": "stream",
     "text": [
      "Self value is Child 14\n"
     ]
    }
   ],
   "source": [
    "# 5) Method overloading is used to provide functionality specific to the child class. \n",
    "# The child class method is written same as parent class with same arguments length.\n",
    "# The return type and internal logic is different.\n",
    "\n",
    "class a:\n",
    "    def __init__(self,value):\n",
    "        self.value=value\n",
    "    \n",
    "    def updateval(self,value):\n",
    "        self.value=value\n",
    "        print(\"Self value is Parent\",self.value)\n",
    "        \n",
    "class b(a):\n",
    "    def __init__(self,value):\n",
    "        self.value=value\n",
    "    \n",
    "    def updateval(self,value):\n",
    "        self.value=value\n",
    "        print(\"Self value is Child\",self.value)\n",
    "\n",
    "bobj=b(12)   \n",
    "bobj.updateval(14)"
   ]
  },
  {
   "cell_type": "code",
   "execution_count": null,
   "id": "4f66bd5d-3911-4d9d-92e5-e0f675591cbb",
   "metadata": {},
   "outputs": [],
   "source": []
  }
 ],
 "metadata": {
  "kernelspec": {
   "display_name": "Python 3 (ipykernel)",
   "language": "python",
   "name": "python3"
  },
  "language_info": {
   "codemirror_mode": {
    "name": "ipython",
    "version": 3
   },
   "file_extension": ".py",
   "mimetype": "text/x-python",
   "name": "python",
   "nbconvert_exporter": "python",
   "pygments_lexer": "ipython3",
   "version": "3.10.8"
  }
 },
 "nbformat": 4,
 "nbformat_minor": 5
}
