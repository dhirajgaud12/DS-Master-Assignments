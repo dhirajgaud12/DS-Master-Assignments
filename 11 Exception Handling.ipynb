{
 "cells": [
  {
   "cell_type": "markdown",
   "id": "84e36076-682b-4711-8683-dae24035d335",
   "metadata": {},
   "source": [
    "1) Exception in python is a scenario where we dont expect the outcome to happen in normal scenario.\n",
    "The exception is run time failure, while the Syntax error is compile time error which occurs before the run time.\n",
    "We can identify and fix the compile time errors before running the program unlike an exception\n"
   ]
  },
  {
   "cell_type": "code",
   "execution_count": 11,
   "id": "60ce89e1-70d4-41bb-a572-f398363cd9e6",
   "metadata": {},
   "outputs": [
    {
     "ename": "ZeroDivisionError",
     "evalue": "division by zero",
     "output_type": "error",
     "traceback": [
      "\u001b[0;31m---------------------------------------------------------------------------\u001b[0m",
      "\u001b[0;31mZeroDivisionError\u001b[0m                         Traceback (most recent call last)",
      "Cell \u001b[0;32mIn[11], line 6\u001b[0m\n\u001b[1;32m      1\u001b[0m \u001b[38;5;66;03m# 2) When an exception is not handled it might lead to some unwanted scenarios where if its system exception\u001b[39;00m\n\u001b[1;32m      2\u001b[0m \u001b[38;5;66;03m# then the program might stop execution on same line where exception has occured. \u001b[39;00m\n\u001b[1;32m      3\u001b[0m \u001b[38;5;66;03m# If its custom exception then we might have error where we dont except and the program might run but output might not be desired one\u001b[39;00m\n\u001b[1;32m      4\u001b[0m \n\u001b[1;32m      5\u001b[0m \u001b[38;5;66;03m#eg- \u001b[39;00m\n\u001b[0;32m----> 6\u001b[0m \u001b[38;5;241;43m1\u001b[39;49m\u001b[38;5;241;43m/\u001b[39;49m\u001b[38;5;241;43m0\u001b[39;49m\n\u001b[1;32m      7\u001b[0m \u001b[38;5;28mprint\u001b[39m(\u001b[38;5;124m\"\u001b[39m\u001b[38;5;124mThis print wont get executed\u001b[39m\u001b[38;5;124m\"\u001b[39m)\n",
      "\u001b[0;31mZeroDivisionError\u001b[0m: division by zero"
     ]
    }
   ],
   "source": [
    "# 2) When an exception is not handled it might lead to some unwanted scenarios where if its system exception\n",
    "# then the program might stop execution on same line where exception has occured. \n",
    "# If its custom exception then we might have error where we dont except and the program might run but output might not be desired one\n",
    "\n",
    "#eg- \n",
    "1/0\n",
    "print(\"This print wont get executed\")"
   ]
  },
  {
   "cell_type": "code",
   "execution_count": 9,
   "id": "655cfb27-fe61-494c-bda2-444eb8963684",
   "metadata": {},
   "outputs": [
    {
     "name": "stdout",
     "output_type": "stream",
     "text": [
      "We have exception  division by zero\n",
      "This print will get executed now\n"
     ]
    }
   ],
   "source": [
    "# 3) Try Except block is used to handle error. \n",
    "\n",
    "# eg- \n",
    "\n",
    "try:\n",
    "    1/0\n",
    "except Exception as e:\n",
    "    print(\"We have exception \",e)\n",
    "    \n",
    "print(\"This print will get executed now\")"
   ]
  },
  {
   "cell_type": "code",
   "execution_count": 10,
   "id": "d9ed79bf-9fa9-4141-8de3-95f27be3e426",
   "metadata": {},
   "outputs": [
    {
     "name": "stdout",
     "output_type": "stream",
     "text": [
      "We have exception  division by zero\n"
     ]
    }
   ],
   "source": [
    "# 4) a)Try and else : Try will run the code where exception might occur, Else will run if the Try block code executes without exception sucessfully.\n",
    "\n",
    "try:\n",
    "    1/0\n",
    "except Exception as e:\n",
    "    print(\"We have exception \",e)\n",
    "else:    \n",
    "    print(\"This print will not get executed now as we have exception. If we dont have only then it will execute\")\n"
   ]
  },
  {
   "cell_type": "code",
   "execution_count": 12,
   "id": "b82337cf-cd3b-418d-8d5b-cc973cf1bc7f",
   "metadata": {},
   "outputs": [
    {
     "name": "stdout",
     "output_type": "stream",
     "text": [
      "We have exception  division by zero\n",
      "irrespective of other code this will get executed.\n"
     ]
    }
   ],
   "source": [
    "# 4) b) Finally block will get executed irrespective of any exception occurence. \n",
    "\n",
    "try:\n",
    "    1/0\n",
    "except Exception as e:\n",
    "    print(\"We have exception \",e)\n",
    "else:    \n",
    "    print(\"This print will not get executed now as we have exception. If we dont have only then it will execute\")\n",
    "finally:\n",
    "    print(\"irrespective of other code this will get executed.\")"
   ]
  },
  {
   "cell_type": "code",
   "execution_count": 13,
   "id": "20b02689-d153-4f5d-b575-8f47f569c27a",
   "metadata": {},
   "outputs": [
    {
     "name": "stdout",
     "output_type": "stream",
     "text": [
      "We have exception  You are not earning. Please earn\n"
     ]
    }
   ],
   "source": [
    "# 4) c) Raise is used to raise custom exception  \n",
    "class raiseexception(Exception):\n",
    "    def __init__(self,msg):\n",
    "        self.msg=msg\n",
    "\n",
    "def checkincome(income):\n",
    "    if income<=0:\n",
    "        raise raiseexception(\"You are not earning. Please earn\")\n",
    "    else:\n",
    "        print(\"you are earning\")\n",
    "\n",
    "try:\n",
    "    checkincome(0)\n",
    "except Exception as e:\n",
    "    print(\"We have exception \",e)\n"
   ]
  },
  {
   "cell_type": "code",
   "execution_count": null,
   "id": "0b547df4-81ca-4604-973e-9c1eabf41a9d",
   "metadata": {},
   "outputs": [],
   "source": []
  }
 ],
 "metadata": {
  "kernelspec": {
   "display_name": "Python 3 (ipykernel)",
   "language": "python",
   "name": "python3"
  },
  "language_info": {
   "codemirror_mode": {
    "name": "ipython",
    "version": 3
   },
   "file_extension": ".py",
   "mimetype": "text/x-python",
   "name": "python",
   "nbconvert_exporter": "python",
   "pygments_lexer": "ipython3",
   "version": "3.10.8"
  }
 },
 "nbformat": 4,
 "nbformat_minor": 5
}
