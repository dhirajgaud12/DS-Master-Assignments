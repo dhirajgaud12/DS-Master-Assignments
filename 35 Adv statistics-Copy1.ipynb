{
 "cells": [
  {
   "cell_type": "markdown",
   "id": "1a83ce19-a8f1-4c53-ad18-8fbc78c860d6",
   "metadata": {},
   "source": [
    "1) The PMF is used for discrete random variables, which take on a finite or countable number of distinct values. The PMF assigns probabilities to each possible value that the random variable can take.\n",
    "Example: Consider flipping a fair coin. \n",
    "The PDF is used for continuous random variables, which can take on any value within a specified range. The PDF represents the probability density of the random variable at each possible value.\n",
    "Example: Consider the height of adult males. "
   ]
  },
  {
   "cell_type": "markdown",
   "id": "9b2c41f5-de7a-457b-b325-bc5aeb4809e7",
   "metadata": {},
   "source": [
    "2) The CDF gives the cumulative probability up to a certain point in the distribution.\n",
    "eg - Consider 3 consecutive dice rolls of pair of dices and we want to get value greater than 10 in each pair throw. Here the probability is cumulative. Uses- Percentile calculation,Visualizing and understanding the distribution of a random variable. It shows the cumulative probability of different values and can reveal patterns or characteristics of the data."
   ]
  },
  {
   "cell_type": "markdown",
   "id": "54be4867-4f92-4837-90f1-b1d89c15061f",
   "metadata": {},
   "source": [
    "3) Normal distribution might be used as a model in finding out averages such as average height of people, average IQ, Average weight, average income. The parameters of the normal distribution if mean changes then the peak or top changes to left or right, if Standard deviation changes then it changes the width of the curve."
   ]
  },
  {
   "cell_type": "markdown",
   "id": "d599dbd5-c00b-4723-b26a-79af37489104",
   "metadata": {},
   "source": [
    "4) Common pattern observed in many natural and social phenomena have normal distribution. \n",
    "eg- Errors in measurements, test scores, IQ"
   ]
  },
  {
   "cell_type": "markdown",
   "id": "98c402ba-a53e-4d1d-9ce8-df747333f21a",
   "metadata": {},
   "source": [
    "5) The Bernoulli Distribution is a discrete probability distribution that models a random experiment with two possible outcomes: success (usually denoted as 1) and failure (usually denoted as 0). Eg - flipping coin has 2 outcomes and both have discrete probability distribution of 50 %.\n",
    "Difference in Bernoulli and normal distribution is that Normal distribution has same graph ie the bell curve. While the Bernoulli distribution has binary distribution which may change the graph."
   ]
  },
  {
   "cell_type": "markdown",
   "id": "3826742a-9a35-4061-b741-30ed9a725135",
   "metadata": {},
   "source": [
    "6) Step 1: Calculate the z-score. z = (x - μ) / σ. z = (60 - 50) / 10. z= 1\n",
    "Step 2: Find the probability using the standard normal distribution table.\n",
    "For a z-score of 1, the table shows that the probability is approximately 0.8413.\n",
    "Step 3: Calculate the probability of the observation being greater than 60.\n",
    "P(X > 60) = 1 - P(X ≤ 60)\n",
    "P(X > 60) ≈ 0.1587 or 15.87%.\n",
    "\n"
   ]
  },
  {
   "cell_type": "markdown",
   "id": "688c8b5f-e780-4788-8aec-4462ad7be6c9",
   "metadata": {},
   "source": [
    "7) In uniform distribution all the variables have the same probability. Eg Random dice throw for each number has same probability of 1/6."
   ]
  },
  {
   "cell_type": "markdown",
   "id": "cfca4cf6-6a51-4839-ba0c-4eed3732d2c7",
   "metadata": {},
   "source": [
    "8) The z-score, also known as the standard score, is a measure that indicates how many standard deviations a particular value is away from the mean of a distribution. It is a way to standardize and compare values from different distributions.\n",
    "Importance - It is used to calculate the probability of occurence of a given input in normal distribution."
   ]
  },
  {
   "cell_type": "markdown",
   "id": "c337ef75-12f7-4f56-b9c4-fe5238eff003",
   "metadata": {},
   "source": [
    "9) The Central Limit Theorem (CLT) is a fundamental concept in statistics that states that the distribution of the sample means from a population with any underlying distribution approaches a normal distribution as the sample size increases, regardless of the shape of the original population distribution. In simpler terms, it states that when you take repeated samples from a population and calculate their means, those means will tend to follow a bell-shaped or normal distribution, regardless of the population's distribution. \n",
    "Significance- Sampling Distribution: The Central Limit Theorem allows us to make inferences about a population based on a sample. Statistical Inference: The Central Limit Theorem is crucial for making valid statistical inferences. It enables the construction of confidence intervals, hypothesis testing, and parameter estimation based on the assumption of a normal distribution of sample means."
   ]
  },
  {
   "cell_type": "markdown",
   "id": "29620b4a-0234-46d0-998a-0307f78d0954",
   "metadata": {},
   "source": [
    "10) Assumptions of Central limit theorem - \n",
    "Independent and Identically Distributed (IID) Samples: The samples taken from the population must be independent, meaning that the value of one sample does not influence the value of another. Additionally, the samples should be identically distributed, meaning that each sample is drawn from the same underlying population with the same distribution. \n",
    "\n",
    "Finite Variance: The population from which the samples are drawn must have a finite variance. This assumption ensures that the sample means are well-defined and do not exhibit extreme fluctuations.\n",
    "\n",
    "Sample Size: While the Central Limit Theorem does not specify an exact sample size requirement, it generally assumes that the sample size is sufficiently large. The larger the sample size, the better the approximation to a normal distribution."
   ]
  }
 ],
 "metadata": {
  "kernelspec": {
   "display_name": "Python 3 (ipykernel)",
   "language": "python",
   "name": "python3"
  },
  "language_info": {
   "codemirror_mode": {
    "name": "ipython",
    "version": 3
   },
   "file_extension": ".py",
   "mimetype": "text/x-python",
   "name": "python",
   "nbconvert_exporter": "python",
   "pygments_lexer": "ipython3",
   "version": "3.10.8"
  }
 },
 "nbformat": 4,
 "nbformat_minor": 5
}
