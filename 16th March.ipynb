{
 "cells": [
  {
   "cell_type": "markdown",
   "id": "adb79f52-6be0-41bd-aaca-6d8d02fe2ace",
   "metadata": {},
   "source": [
    "1) Overfitting is scenario where the training data accuracy is higher and the testing data accuracy is lower.\n",
    "Underfitting is when the training data accuracy is lower and the testing data accuracy is lower.\n",
    "Overfitting is when we train the model on specific data and the data from training is new to the model so model is unable to correctly predict. This can be mitigated by reducing the data set size for training and increasing test data size.For underfitting it requires larger dataset for both training and testing. "
   ]
  },
  {
   "cell_type": "markdown",
   "id": "de3ddbca-59bb-4cfa-9c86-5001c770cf41",
   "metadata": {},
   "source": [
    "2) Overfitting is when we train the model on specific data and the data from training is new to the model so model is unable to correctly predict. This can be mitigated by reducing the data set size for training and increasing test data size."
   ]
  },
  {
   "cell_type": "markdown",
   "id": "b6995359-a3bf-4ec8-a407-aeb9cefd6dda",
   "metadata": {},
   "source": [
    "3) Underfitting is when the training data accuracy is lower and the testing data accuracy is lower.\n",
    "we can reduce underfitting by following ways - \n",
    "Increase model complexity.\n",
    "Increase the number of features, performing feature engineering.\n",
    "Remove noise from the data.\n",
    "Increase the number of epochs or increase the duration of training to get better results."
   ]
  },
  {
   "cell_type": "markdown",
   "id": "1b206459-161a-49fc-a2e1-a0dff33413e1",
   "metadata": {},
   "source": [
    "4) If the algorithm is too simple then it may be on high bias and low variance condition and thus is error-prone. If algorithms fit is too complex then it may be on high variance and low bias. In the latter condition, the new entries will not perform well. We try to optimize the value of the total error for the model by using the Bias-Variance Tradeoff.\n",
    "Total error = Bias^2 + Variance + Irreducible Error"
   ]
  },
  {
   "cell_type": "markdown",
   "id": "bc1a1581-53f9-4ea4-b443-3b06105cdb9b",
   "metadata": {},
   "source": [
    "5) We can detect Overfitting & underfitting by dividing the dataset into training and testing dataset. Then checking the accuracy in testing and training data. The most commong method is dividing it into 30 and 70% where 70% is training data and 30% is test data. "
   ]
  },
  {
   "cell_type": "markdown",
   "id": "4c77e477-076b-49bb-b02f-900de2927e1f",
   "metadata": {},
   "source": [
    "6) Variance is high when the testing accuracy is low. Bias is high when the training accuracy is low.\n",
    "Eg of high bias model is linear regression,logistic regression. Performance of high bias model - it performs well on training dataset but does not have high accuracy in test data. Eg of high variance model is classification, regression trees, nearest neighbor models, and neural networks.Performance of high variance model - it performs well on the testing set, we can see that the error is low, but gives high error on the training set."
   ]
  },
  {
   "cell_type": "markdown",
   "id": "b367e17e-043b-4c00-80b6-d3d8aa47b0c5",
   "metadata": {},
   "source": [
    "7) Regularization - \n",
    "Regularization is one of the most important concepts of machine learning. It is a technique to prevent the model from overfitting by adding extra information to it.Sometimes the machine learning model performs well with the training data but does not perform well with the test data. It means the model is not able to predict the output when deals with unseen data by introducing noise in the output, and hence the model is called overfitted. This problem can be deal with the help of a regularization technique. L1 regularization penalizes the sum of absolute values of the weights, whereas L2 regularization penalizes the sum of squares of the weights.\n"
   ]
  },
  {
   "cell_type": "code",
   "execution_count": null,
   "id": "851e6d37-3a88-4339-a71d-ab6731cdd18e",
   "metadata": {},
   "outputs": [],
   "source": []
  }
 ],
 "metadata": {
  "kernelspec": {
   "display_name": "Python 3 (ipykernel)",
   "language": "python",
   "name": "python3"
  },
  "language_info": {
   "name": ""
  }
 },
 "nbformat": 4,
 "nbformat_minor": 5
}
