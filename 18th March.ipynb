{
 "cells": [
  {
   "cell_type": "markdown",
   "id": "faa30b07-87b5-4c9e-82c7-eae0f23c82d2",
   "metadata": {},
   "source": [
    "1) Filter method is feature selection method where we select a subset of features based on their correlation with the target variable. In this method we do not consider the interactions between the feature. We need to use either one of the following techniques for filter method - ANOVA,LDA,Pearsons Correlation"
   ]
  },
  {
   "cell_type": "markdown",
   "id": "81a1d320-9196-4046-a308-12bb317bbb62",
   "metadata": {},
   "source": [
    "2)  The difference between the filter method and the wrapper method is that the filter method selects features based on their correlation with the target variable, while the wrapper method evaluates subsets of features based on their ability to improve model performance.\n"
   ]
  },
  {
   "cell_type": "markdown",
   "id": "2c3d4724-7b03-4cb0-ad9a-9b3db3ee52f8",
   "metadata": {},
   "source": [
    "3) Embedded feature selection techniques- \n",
    "Lasso regression performs L1 regularization which adds penalty equivalent to absolute value of the magnitude of coefficients.\n",
    "Ridge regression performs L2 regularization which adds penalty equivalent to square of the magnitude of coefficients."
   ]
  },
  {
   "cell_type": "markdown",
   "id": "bf9026a3-691f-4a68-9a25-bbae40a90bd9",
   "metadata": {},
   "source": [
    "4) Disadvantages of filter method - no interaction within the feature. And ignores feature dependency. Also considers each feature separately leading to low computational performance. \n"
   ]
  },
  {
   "cell_type": "markdown",
   "id": "54b125f0-2339-45b3-811d-bb614955bded",
   "metadata": {},
   "source": [
    "5) For large data you should use the Filter approaches because these approaches are rapid and for small size of data it is better to use Wrapper (KNN, SVM,...) approaches because they are slower than the Filter approaches.\n",
    "or you can combine the two approaches to have better results than the two approaches.\n"
   ]
  },
  {
   "cell_type": "markdown",
   "id": "f04482b0-ad68-46c7-b68e-948da8cb9a1b",
   "metadata": {},
   "source": [
    "6) Filter method use- \n",
    "We will begin by understanding the data and identify the variables which are important in the dataset,\n",
    "Split the dataset into features (independent variables) and the target variable (dependent variable) then handle the missing values, encode the values into numerical one and then calculate the correlation. Then select the features based on correlation using Information Gain, Gain Ratio, or Chi-squared for feature selection techniques."
   ]
  },
  {
   "cell_type": "markdown",
   "id": "646c4911-5761-4343-b1d7-edaab85454d0",
   "metadata": {},
   "source": [
    "7) Embedded method - \n",
    "We will begin by understanding the data and identify the variables which are important in the dataset,\n",
    "Split the dataset into features (independent variables) and the target variable (dependent variable) then handle the missing values, encode the values into numerical one and then calculate the correlation. Then select the features based on correlation using Lasso regression. Then we need to evaluate model performance by using ROC ie  area under the receiver operating characteristic (ROC) curve. Iterate and refine."
   ]
  },
  {
   "cell_type": "markdown",
   "id": "cbe19a4f-d9ca-4a4c-b735-05ca1cd040ff",
   "metadata": {},
   "source": [
    "8) Wrapper method - \n",
    "We will begin by understanding the data and identify the variables which are important in the dataset,\n",
    "Split the dataset into features (independent variables) and the target variable (dependent variable) then handle the missing values, encode the values into numerical one and then calculate the correlation. Then select the features based on correlation using forward selection, backward elimination, or recursive feature elimination.. Then we need to evaluate model performance by using ROC ie  area under the receiver operating characteristic (ROC) curve."
   ]
  }
 ],
 "metadata": {
  "kernelspec": {
   "display_name": "Python 3 (ipykernel)",
   "language": "python",
   "name": "python3"
  },
  "language_info": {
   "name": ""
  }
 },
 "nbformat": 4,
 "nbformat_minor": 5
}
