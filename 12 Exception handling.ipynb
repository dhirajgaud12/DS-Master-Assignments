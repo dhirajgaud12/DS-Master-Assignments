{
 "cells": [
  {
   "cell_type": "markdown",
   "id": "0a9b1a57-203d-48bd-8779-984137531445",
   "metadata": {},
   "source": [
    "1) We have to use exception class for creating custom exception as this is the parent class for all the Exceptions.\n",
    "Using this only we will be able to create a custome exception class as this inherits all the functionalities form this base class\n"
   ]
  },
  {
   "cell_type": "code",
   "execution_count": 39,
   "id": "afa64168-b230-4d7f-a6ae-82ff7ecb797a",
   "metadata": {},
   "outputs": [
    {
     "name": "stdout",
     "output_type": "stream",
     "text": [
      "<class 'Exception'>\n",
      "Base classes are \n",
      "\n",
      "<class 'TypeError'>\n",
      "<class 'StopAsyncIteration'>\n",
      "<class 'StopIteration'>\n",
      "<class 'ImportError'>\n",
      "<class 'OSError'>\n",
      "<class 'EOFError'>\n",
      "<class 'RuntimeError'>\n",
      "<class 'NameError'>\n",
      "<class 'AttributeError'>\n",
      "<class 'SyntaxError'>\n",
      "<class 'LookupError'>\n",
      "<class 'ValueError'>\n",
      "<class 'AssertionError'>\n",
      "<class 'ArithmeticError'>\n",
      "<class 'SystemError'>\n",
      "<class 'ReferenceError'>\n",
      "<class 'MemoryError'>\n",
      "<class 'BufferError'>\n",
      "<class 'Warning'>\n",
      "<class 'warnings._OptionError'>\n",
      "<class 'runpy._Error'>\n",
      "<class 're.error'>\n",
      "<class 'sre_parse.Verbose'>\n",
      "<class 'locale.Error'>\n",
      "<class 'subprocess.SubprocessError'>\n",
      "<class 'tokenize.TokenError'>\n",
      "<class 'tokenize.StopTokenizing'>\n",
      "<class 'inspect.ClassFoundException'>\n",
      "<class 'inspect.EndOfBlock'>\n",
      "<class 'traitlets.traitlets.TraitError'>\n",
      "<class 'copy.Error'>\n",
      "<class 'concurrent.futures._base.Error'>\n",
      "<class 'socket._GiveupOnSendfile'>\n",
      "<class 'struct.error'>\n",
      "<class 'binascii.Incomplete'>\n",
      "<class 'asyncio.exceptions.TimeoutError'>\n",
      "<class 'asyncio.exceptions.InvalidStateError'>\n",
      "<class 'asyncio.exceptions.LimitOverrunError'>\n",
      "<class 'asyncio.queues.QueueEmpty'>\n",
      "<class 'asyncio.queues.QueueFull'>\n",
      "<class '_queue.Empty'>\n",
      "<class 'queue.Full'>\n",
      "<class 'ctypes.ArgumentError'>\n",
      "<class 'zmq.error.ZMQBaseError'>\n",
      "<class '_pickle.PickleError'>\n",
      "<class 'pickle._Stop'>\n",
      "<class 'argparse.ArgumentError'>\n",
      "<class 'argparse.ArgumentTypeError'>\n",
      "<class 'traitlets.config.loader.ConfigError'>\n",
      "<class 'traitlets.config.configurable.ConfigurableError'>\n",
      "<class 'traitlets.config.application.ApplicationError'>\n",
      "<class 'zlib.error'>\n",
      "<class 'tornado.util.TimeoutError'>\n",
      "<class '_curses.error'>\n",
      "<class 'tornado.concurrent.ReturnValueIgnoredError'>\n",
      "<class 'tornado.gen.KeyReuseError'>\n",
      "<class 'tornado.gen.UnknownKeyError'>\n",
      "<class 'tornado.gen.LeakedCallbackError'>\n",
      "<class 'tornado.gen.BadYieldError'>\n",
      "<class 'tornado.gen.ReturnValueIgnoredError'>\n",
      "<class 'tornado.gen.Return'>\n",
      "<class 'jupyter_client.channels.InvalidPortNumber'>\n",
      "<class 'termios.error'>\n",
      "<class '_lzma.LZMAError'>\n",
      "<class 'shutil.RegistryError'>\n",
      "<class 'shutil._GiveupOnFastCopy'>\n",
      "<class 'configparser.Error'>\n",
      "<class 'jupyter_client.localinterfaces.NoIPAddresses'>\n",
      "<class 'zipfile.BadZipFile'>\n",
      "<class 'zipfile.LargeZipFile'>\n",
      "<class 'entrypoints.BadEntryPoint'>\n",
      "<class 'entrypoints.NoSuchEntryPoint'>\n",
      "<class 'jupyter_client.multikernelmanager.DuplicateKernelError'>\n",
      "<class 'pydoc.ErrorDuringImport'>\n",
      "<class 'executing.executing.NotOneValueFound'>\n",
      "<class 'pure_eval.utils.CannotEval'>\n",
      "<class 'pygments.util.OptionError'>\n",
      "<class 'bdb.BdbQuit'>\n",
      "<class 'pdb.Restart'>\n",
      "<class 'pexpect.exceptions.ExceptionPexpect'>\n",
      "<class 'ptyprocess.util.PtyProcessError'>\n",
      "<class 'IPython.utils.process.FindCmdError'>\n",
      "<class 'IPython.utils.path.HomeDirError'>\n",
      "<class 'IPython.core.profiledir.ProfileDirError'>\n",
      "<class 'IPython.core.error.IPythonCoreError'>\n",
      "<class 'IPython.core.error.InputRejected'>\n",
      "<class 'getopt.GetoptError'>\n",
      "<class 'pygments.filters.ErrorToken'>\n",
      "<class 'IPython.core.prefilter.PrefilterError'>\n",
      "<class 'IPython.core.alias.AliasError'>\n",
      "<class 'sqlite3.Error'>\n",
      "<class 'sqlite3.Warning'>\n",
      "<class 'IPython.core.interactiveshell.SpaceInInput'>\n",
      "<class 'xml.dom.DOMException'>\n",
      "<class 'prompt_toolkit.validation.ValidationError'>\n",
      "<class 'prompt_toolkit.buffer.EditReadOnlyBuffer'>\n",
      "<class 'prompt_toolkit.buffer._Retry'>\n",
      "<class 'prompt_toolkit.layout.layout.InvalidLayoutError'>\n",
      "<class 'prompt_toolkit.renderer.HeightIsUnknownError'>\n",
      "<class 'parso.parser.ParserSyntaxError'>\n",
      "<class 'parso.parser.InternalParseError'>\n",
      "<class 'parso.python.diff._PositionUpdatingFinished'>\n",
      "<class 'jedi.inference.helpers.SimpleGetItemNotFound'>\n",
      "<class 'jedi.inference.utils.UncaughtAttributeError'>\n",
      "<class 'jedi.inference.base_value.HasNoContext'>\n",
      "<class 'jedi.inference.arguments.ParamIssue'>\n",
      "<class 'jedi.api.exceptions._JediError'>\n",
      "<class 'jedi.api.helpers.OnErrorLeaf'>\n",
      "<class 'jedi.api.environment.InvalidPythonEnvironment'>\n",
      "<class 'email.errors.MessageError'>\n",
      "<class 'uu.Error'>\n",
      "<class 'http.client.HTTPException'>\n",
      "<class 'IPython.core.magics.code.InteractivelyDefined'>\n",
      "<class 'IPython.terminal.embed.KillEmbedded'>\n",
      "<class 'psutil.Error'>\n",
      "<class 'psutil._pslinux._Ipv6UnsupportedError'>\n",
      "<class 'tornado.queues.QueueEmpty'>\n",
      "<class 'tornado.queues.QueueFull'>\n",
      "<class '_pydev_bundle._pydev_saved_modules.DebuggerInitializationError'>\n",
      "<class 'xml.parsers.expat.ExpatError'>\n",
      "<class 'xmlrpc.client.Error'>\n",
      "<class 'pkg_resources._vendor.pyparsing.exceptions.ParseBaseException'>\n",
      "<class 'pkg_resources._vendor.pyparsing.exceptions.RecursiveGrammarException'>\n",
      "<class 'pkg_resources.ResolutionError'>\n",
      "<class '_pydevd_bundle.pydevd_runpy._Error'>\n",
      "<class '_pydevd_bundle.pydevd_resolver.UnableToResolveVariableException'>\n",
      "<class '_pydev_bundle.pydev_monkey.InvalidTypeInArgsException'>\n",
      "<class 'numpy.linalg.LinAlgError'>\n",
      "<class 'numpy.lib._iotools.ConverterError'>\n",
      "<class 'numpy.ma.core.MAError'>\n",
      "<class 'GeneratorExit'>\n",
      "Base classes are \n",
      "\n",
      "<class 'SystemExit'>\n",
      "Base classes are \n",
      "\n",
      "<class 'KeyboardInterrupt'>\n",
      "Base classes are \n",
      "\n",
      "<class 'asyncio.exceptions.CancelledError'>\n",
      "Base classes are \n",
      "\n",
      "<class 'pkg_resources._vendor.more_itertools.more.AbortThread'>\n",
      "Base classes are \n",
      "\n"
     ]
    }
   ],
   "source": [
    "# 2)\n",
    "for i in BaseException.__subclasses__():\n",
    "    print(i)\n",
    "    print(\"Base classes are \\n\")\n",
    "    for j in i.__subclasses__():\n",
    "        print (j)\n",
    "    "
   ]
  },
  {
   "cell_type": "code",
   "execution_count": null,
   "id": "0c3caf6e-f843-41fc-9176-9d46d1a57640",
   "metadata": {},
   "outputs": [
    {
     "name": "stdout",
     "output_type": "stream",
     "text": [
      "Floating error  float division by zero\n"
     ]
    }
   ],
   "source": [
    "\"\"\" 3) ArithmeticError Errors are - \n",
    "       i)   FloatingPointError\n",
    "       ii)  OverflowError\n",
    "       iii) ZeroDivisionError\n",
    "       iv)  DecimalException\n",
    "\"\"\"\n",
    "   \n",
    "# a) Floating point error -\n",
    "    \n",
    "try:\n",
    "    round(24.601 / 0.0, 4)\n",
    "\n",
    "except ArithmeticError as e:\n",
    "    print(\"Floating error \",e)\n"
   ]
  },
  {
   "cell_type": "code",
   "execution_count": 18,
   "id": "e9f68651-55fe-4284-9003-3c6752732c79",
   "metadata": {},
   "outputs": [
    {
     "name": "stdout",
     "output_type": "stream",
     "text": [
      "Zero division error  division by zero\n"
     ]
    }
   ],
   "source": [
    "# 3) b) Zero Division Error \n",
    "\n",
    "try:\n",
    "    1/0\n",
    "except ZeroDivisionError as e:\n",
    "    print(\"Zero division error \",e)"
   ]
  },
  {
   "cell_type": "code",
   "execution_count": 28,
   "id": "60a4b470-18fb-4351-b163-4755abd37279",
   "metadata": {},
   "outputs": [
    {
     "name": "stdout",
     "output_type": "stream",
     "text": [
      "Index Error  list index out of range\n"
     ]
    }
   ],
   "source": [
    "# 4) LookUp Error class is used for all exception where key or indexes are not found. Contains both index error and -\n",
    "#     key error\n",
    "\n",
    "# 4) a) Index Error example - \n",
    "\n",
    "\n",
    "\n",
    "\n",
    "try:\n",
    "    a=[1,2,3]\n",
    "    print(a[3])\n",
    "    \n",
    "except IndexError as e:\n",
    "    print(\"Index Error \",e)"
   ]
  },
  {
   "cell_type": "code",
   "execution_count": 33,
   "id": "58da409a-5d10-4248-bd7b-77c72b33bbbe",
   "metadata": {},
   "outputs": [
    {
     "name": "stdout",
     "output_type": "stream",
     "text": [
      "Key Error key not found 'c'\n"
     ]
    }
   ],
   "source": [
    "# 4) b) Key Error Example - \n",
    "\n",
    "try:\n",
    "    a={\"a\":1,\"b\":2}\n",
    "    print(a[\"c\"])\n",
    "    \n",
    "except KeyError as e:\n",
    "    print(\"Key Error key not found\",e)\n"
   ]
  },
  {
   "cell_type": "markdown",
   "id": "bc7bac0a-9de7-4bdc-9de6-7b789ea712c9",
   "metadata": {},
   "source": [
    "5) ImportError is error we get when we are not able to find the python file with given name after import keyword. It supports all exceptions related to import \n",
    "\n",
    "ModuleNotFoundError is shown when the python is unable to find the given module after import. This is a type of Import Error\n"
   ]
  },
  {
   "cell_type": "markdown",
   "id": "f08fb1d9-1dfb-434d-ac92-7e16f4b5cac1",
   "metadata": {},
   "source": [
    "6) Exception handling best practices includes - \n",
    "    a) Writing more specific Exceptions in except blocks at the top\n",
    "    b) Removing or not writing unnecessary Except blocks as they are not going to be used\n",
    "    c) Using Logging instead of print as log is permanent and we can use this to debug\n",
    "    d) Logging the exceptions with some meaningful line so that the developer can understand where the exception is\n",
    "    e) Writing the base exception class at the bottom of all the except statements"
   ]
  }
 ],
 "metadata": {
  "kernelspec": {
   "display_name": "Python 3 (ipykernel)",
   "language": "python",
   "name": "python3"
  },
  "language_info": {
   "codemirror_mode": {
    "name": "ipython",
    "version": 3
   },
   "file_extension": ".py",
   "mimetype": "text/x-python",
   "name": "python",
   "nbconvert_exporter": "python",
   "pygments_lexer": "ipython3",
   "version": "3.10.8"
  }
 },
 "nbformat": 4,
 "nbformat_minor": 5
}
