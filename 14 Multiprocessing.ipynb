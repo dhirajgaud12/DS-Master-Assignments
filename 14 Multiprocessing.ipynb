{
 "cells": [
  {
   "cell_type": "markdown",
   "id": "f0c62447-6a35-48e9-87b5-4961c2755362",
   "metadata": {},
   "source": [
    "1) Multiprocessing in python is where we create multiple processes, all are able to run simultaneously. All within a single thread. It is useful if we want to make use of multi core or multiprocessors."
   ]
  },
  {
   "cell_type": "markdown",
   "id": "c02d75d5-bb5d-4d93-b6e5-a54432f17183",
   "metadata": {},
   "source": [
    "2) Multiprocessing is where we are using multiple processes which can run on multi CPU cores or multiple different CPUS.\n",
    "Multithreading is where we are using multiple threads running inside same process, over same CPU core. "
   ]
  },
  {
   "cell_type": "code",
   "execution_count": 8,
   "id": "75bfa994-0e70-4a0e-9f73-25066e8696d2",
   "metadata": {},
   "outputs": [
    {
     "name": "stdout",
     "output_type": "stream",
     "text": [
      "1\n",
      "4\n",
      "9\n",
      "16\n"
     ]
    }
   ],
   "source": [
    "# 3) \n",
    "import multiprocessing\n",
    "\n",
    "def testing(num):\n",
    "    print(num**2)\n",
    "\n",
    "for i in [1,2,3,4]:\n",
    "    p1= multiprocessing.Process(target=testing, args=(i,)) \n",
    "    p1.start()\n"
   ]
  },
  {
   "cell_type": "markdown",
   "id": "136d6c15-f922-4efc-b6fb-40977350576f",
   "metadata": {},
   "source": [
    "4) Multiprocessing pool is where a common task is excuted simultaneously by processes.\n",
    "It is used because the input data is distributed across processes "
   ]
  },
  {
   "cell_type": "code",
   "execution_count": 10,
   "id": "b0d7aa01-f3f8-460a-829c-63023b9ddb8d",
   "metadata": {},
   "outputs": [
    {
     "name": "stdout",
     "output_type": "stream",
     "text": [
      "-2-3-1\n",
      "\n",
      "\n"
     ]
    }
   ],
   "source": [
    "# 5) Pool of processes using multiprocessing module\n",
    "\n",
    "import multiprocessing\n",
    "\n",
    "def reversenum(x):\n",
    "    print(x*-1)\n",
    "\n",
    "with multiprocessing.Pool(5) as pool1:\n",
    "    pool1.map(reversenum, [1, 2, 3])"
   ]
  },
  {
   "cell_type": "code",
   "execution_count": 11,
   "id": "97e2a576-c3d0-45e3-bbdc-21bcf26174e0",
   "metadata": {},
   "outputs": [
    {
     "name": "stdout",
     "output_type": "stream",
     "text": [
      "3241\n",
      "\n",
      "\n",
      "\n"
     ]
    }
   ],
   "source": [
    "#6 Printing different number using 4 process\n",
    "\n",
    "import multiprocessing\n",
    "\n",
    "def printNum(num):\n",
    "    print(num)\n",
    "    \n",
    "\n",
    "with multiprocessing.Pool(4) as pool2:\n",
    "    pool2.map(printNum,[1,2,3,4])"
   ]
  },
  {
   "cell_type": "code",
   "execution_count": null,
   "id": "b2065a79-ccfd-470c-bdc1-b68e7a7df65b",
   "metadata": {},
   "outputs": [],
   "source": []
  }
 ],
 "metadata": {
  "kernelspec": {
   "display_name": "Python 3 (ipykernel)",
   "language": "python",
   "name": "python3"
  },
  "language_info": {
   "codemirror_mode": {
    "name": "ipython",
    "version": 3
   },
   "file_extension": ".py",
   "mimetype": "text/x-python",
   "name": "python",
   "nbconvert_exporter": "python",
   "pygments_lexer": "ipython3",
   "version": "3.10.8"
  }
 },
 "nbformat": 4,
 "nbformat_minor": 5
}
