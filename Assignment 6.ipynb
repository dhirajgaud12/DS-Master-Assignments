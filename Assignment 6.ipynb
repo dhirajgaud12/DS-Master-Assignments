{
 "cells": [
  {
   "cell_type": "code",
   "execution_count": 11,
   "id": "d2100b65-4346-43a1-9072-38e1d55e2f57",
   "metadata": {},
   "outputs": [
    {
     "name": "stdout",
     "output_type": "stream",
     "text": [
      "Hello\n"
     ]
    }
   ],
   "source": [
    "# 1) Class is used for structuring and reusablity of the code, we can define what the class will have using class keyword\n",
    "# Object is used for creating a variable of the class using which we can access class variables and methods\n",
    "\n",
    "class Temp:\n",
    "    \n",
    "    def printHello(this):\n",
    "        print(\"Hello\")\n",
    "        \n",
    "        \n",
    "a=Temp()\n",
    "a.printHello()"
   ]
  },
  {
   "cell_type": "markdown",
   "id": "696e4509-771c-413c-8ee0-8b89118dcbd3",
   "metadata": {},
   "source": [
    " 2) The four pillars of OOPS are Inheritance, Polymorphism, Encapsulation and Abstraction\n"
   ]
  },
  {
   "cell_type": "code",
   "execution_count": 13,
   "id": "71f79afd-b815-4b25-ac31-6fb1ce7b7678",
   "metadata": {},
   "outputs": [
    {
     "data": {
      "text/plain": [
       "12"
      ]
     },
     "execution_count": 13,
     "metadata": {},
     "output_type": "execute_result"
    }
   ],
   "source": [
    "# 3) The __init__() function is used for initializing the class variables at object creation time.\n",
    "\n",
    "class Test:\n",
    "    \n",
    "    def __init__(self,value):\n",
    "        self.value=value\n",
    "\n",
    "        \n",
    "a=Test(12)\n",
    "\n",
    "a.value"
   ]
  },
  {
   "cell_type": "markdown",
   "id": "baf7b550-8cd0-4099-8676-014b016c3f8a",
   "metadata": {},
   "source": [
    "# 4) Self is used to reference class variables within the class ie from inside the class"
   ]
  },
  {
   "cell_type": "markdown",
   "id": "134da985-60b7-49ab-b193-d485ab68c7d6",
   "metadata": {},
   "source": [
    " 5) There are five types of inheritances:\n",
    "     \n",
    "i)Single Inheritance\n",
    "ii)Multiple Inheritance\n",
    "iii)Multilevel Inheritance\n",
    "iv)Hierarchical Inheritance\n",
    "v)Hybrid Inheritance\n",
    "\n"
   ]
  },
  {
   "cell_type": "code",
   "execution_count": 4,
   "id": "8986f2be-22fb-4866-a86b-88f581c740fe",
   "metadata": {},
   "outputs": [
    {
     "name": "stdout",
     "output_type": "stream",
     "text": [
      "Parent class.\n",
      "Child class.\n"
     ]
    }
   ],
   "source": [
    "# i) Single inheritance\n",
    "\n",
    "class a:\n",
    "    def fun1(self):\n",
    "        print(\"Parent class.\")\n",
    "class b(a):\n",
    "    def fun2(self):\n",
    "        print(\"Child class.\")\n",
    " \n",
    " \n",
    "# Driver's code\n",
    "object = b()\n",
    "object.fun1()\n",
    "object.fun2()\n",
    "            "
   ]
  },
  {
   "cell_type": "code",
   "execution_count": 5,
   "id": "2d11a70a-2eeb-43ae-8a10-fa279511c138",
   "metadata": {},
   "outputs": [
    {
     "name": "stdout",
     "output_type": "stream",
     "text": [
      "Parent class.\n",
      "Other parent class.\n",
      "Child class.\n"
     ]
    }
   ],
   "source": [
    "# ii) Multiple inheritance\n",
    "\n",
    "class a:\n",
    "    def fun1(self):\n",
    "        print(\"Parent class.\")\n",
    "class b:\n",
    "    def fun2(self):\n",
    "        print(\"Other parent class.\")\n",
    "class c(b,a):\n",
    "    def fun3(self):\n",
    "        print(\"Child class.\")\n",
    "        \n",
    "object = c()\n",
    "object.fun1()\n",
    "object.fun2()\n",
    "object.fun3()"
   ]
  },
  {
   "cell_type": "code",
   "execution_count": 6,
   "id": "4597bf7a-c31e-4a8d-bac8-6718767b0931",
   "metadata": {},
   "outputs": [
    {
     "name": "stdout",
     "output_type": "stream",
     "text": [
      "Parent class.\n",
      "Other parent class.\n",
      "Child class.\n"
     ]
    }
   ],
   "source": [
    "# iii) Multilevel inheritance\n",
    "class a:\n",
    "    def fun1(self):\n",
    "        print(\"Parent class.\")\n",
    "class b(a):\n",
    "    def fun2(self):\n",
    "        print(\"Other parent class.\")\n",
    "class c(b):\n",
    "    def fun3(self):\n",
    "        print(\"Child class.\")\n",
    "        \n",
    "object = c()\n",
    "object.fun1()\n",
    "object.fun2()\n",
    "object.fun3()"
   ]
  },
  {
   "cell_type": "code",
   "execution_count": 7,
   "id": "6eab2caf-dcf4-4460-95e6-58c4353373f6",
   "metadata": {},
   "outputs": [
    {
     "name": "stdout",
     "output_type": "stream",
     "text": [
      "Parent class.\n",
      "Parent class.\n",
      "Other parent class.\n",
      "Child class.\n"
     ]
    }
   ],
   "source": [
    "# iv) Hierarchical inheritance\n",
    "class a:\n",
    "    def fun1(self):\n",
    "        print(\"Parent class.\")\n",
    "class b(a):\n",
    "    def fun2(self):\n",
    "        print(\"Other parent class.\")\n",
    "class c(a):\n",
    "    def fun3(self):\n",
    "        print(\"Child class.\")\n",
    "        \n",
    "object1 = c()\n",
    "object2 = b()\n",
    "object1.fun1()\n",
    "object2.fun1()\n",
    "object2.fun2()\n",
    "object1.fun3()"
   ]
  },
  {
   "cell_type": "code",
   "execution_count": 8,
   "id": "254ae51b-f747-4a66-a0d5-f6718504762c",
   "metadata": {},
   "outputs": [
    {
     "name": "stdout",
     "output_type": "stream",
     "text": [
      "Parent class.\n",
      "Parent class.\n",
      "Hierarchical Child class.\n",
      "Hierarchical Child class.\n",
      "Hierarchical Child class.\n",
      "Parent class.\n"
     ]
    }
   ],
   "source": [
    "# iv) Hybrid inheritance\n",
    "class a:\n",
    "    def fun1(self):\n",
    "        print(\"Parent class.\")\n",
    "class b(a):\n",
    "    def fun2(self):\n",
    "        print(\"Hierarchical Child class.\")\n",
    "class c(a):\n",
    "    def fun3(self):\n",
    "        print(\"Hierarchical Child class.\")\n",
    "class d(b):\n",
    "    def fun3(self):\n",
    "        print(\" Multi Level Child class.\")\n",
    "        \n",
    "object1 = c()\n",
    "object2 = b()\n",
    "object3 = d()\n",
    "object1.fun1()\n",
    "object2.fun1()\n",
    "object2.fun2()\n",
    "object1.fun3()\n",
    "object3.fun2()\n",
    "object3.fun1()"
   ]
  },
  {
   "cell_type": "code",
   "execution_count": null,
   "id": "e35f4938-f2b7-496b-baf9-1344a5a06a0a",
   "metadata": {},
   "outputs": [],
   "source": []
  }
 ],
 "metadata": {
  "kernelspec": {
   "display_name": "Python 3 (ipykernel)",
   "language": "python",
   "name": "python3"
  },
  "language_info": {
   "codemirror_mode": {
    "name": "ipython",
    "version": 3
   },
   "file_extension": ".py",
   "mimetype": "text/x-python",
   "name": "python",
   "nbconvert_exporter": "python",
   "pygments_lexer": "ipython3",
   "version": "3.10.8"
  }
 },
 "nbformat": 4,
 "nbformat_minor": 5
}
