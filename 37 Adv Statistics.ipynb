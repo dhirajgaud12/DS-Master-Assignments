{
 "cells": [
  {
   "cell_type": "markdown",
   "id": "a4f829fb-f721-4cc4-9ebc-60ad65d0058c",
   "metadata": {},
   "source": [
    "1) Z test is used with normal distribution and if we have the population standard deviation. T test is used we dont have the population standard deviation. Z test is used if we have sample size greater than 30 and used when we have smaller sample size."
   ]
  },
  {
   "cell_type": "markdown",
   "id": "ce36aed9-839d-4472-a757-88dfae0432cb",
   "metadata": {},
   "source": [
    "2) One tailed tests are having alternate hypothesis probabilities on both sides of graph. While one tailed test only has one sided probability. "
   ]
  },
  {
   "cell_type": "markdown",
   "id": "074eb8b4-3b72-44c0-a36c-736bd1c95508",
   "metadata": {},
   "source": [
    "3) Type 1 error - When we reject the null hypothesis when in reality it is true.\n",
    "Type 2 error - We accept the null hypothesis when in reality it is false.\n",
    "\n",
    "Eg- Type 1 error - Population mean of IQ is said to be increasing when people consuming a certain medicine, when in reality it has no effect.\n",
    "Type 2 error - Being wet does not affect common cold, but in reality it increases the chances of people catching common cold."
   ]
  },
  {
   "cell_type": "markdown",
   "id": "3a6a3617-dcbc-426d-8d42-320337a98a9a",
   "metadata": {},
   "source": [
    "4) Bayes theorem is based on conditional probability and the probability of an event occurring given prior knowledge of the event's probability and new evidence.\n",
    "Where event B given A has occured is based on probability of B multiplied by probability of A given Event B divided by probability of even A independently occuring.\n",
    "Eg- House price based on factors area,location,rooms\n",
    "Let A be no of rooms, B be area, and C be location and Probability of Price P\n",
    "Price|A,B,C= (Prob(Price)* Prob(A,B,C)|Prob(Price))/Prob(A,B,C)"
   ]
  },
  {
   "cell_type": "markdown",
   "id": "6e28997f-9510-4043-a900-3949bc610ca8",
   "metadata": {},
   "source": [
    "5) Confidence interval is probability that a parameter will fall between a pair of value ie upper bound and lower bound. \n",
    "calcuation - x̄ +- ( (Z *(α/2))  * s/√n)\n",
    "\n",
    "Eg- Calculating CI for CAT exam, the SD  is 100, Sample size is 25 and mean is 520. Confidence level is assumed 95%.\n",
    "\n",
    "from Z table we get critical value as 1.96 for 95% confidence level. \n",
    "α=0.05 as (100- 95 = 5)\n",
    "lower bound = 520 - (1.96) *100/√25 =480.8\n",
    "upper bound = 520 + (1.96) *100/√25 = 559.2"
   ]
  },
  {
   "cell_type": "markdown",
   "id": "22e7ef46-c117-442e-9a71-acfbee72746f",
   "metadata": {},
   "source": [
    "6) In a neighbourhood, 90% children were falling sick due flu and 10% due to measles and no other disease. The probability of observing rashes for measles is 0.95 and for flu is 0.08. If a child develops rashes, find the child’s probability of having flu.\n",
    "\n",
    "Let,\n",
    "\n",
    "F: children with flu\n",
    "M: children with measles\n",
    "R: children showing the symptom of rash\n",
    "\n",
    "P(F) = 90% = 0.9\n",
    "P(M) = 10% = 0.1\n",
    "P(R|F) = 0.08\n",
    "P(R|M) = 0.95\n",
    "\n",
    "= 0.072/(0.095 + 0.072) = 0.072/0.167 ≈ 0.43\n",
    "\n"
   ]
  },
  {
   "cell_type": "markdown",
   "id": "012736a6-2ab5-4e2a-a945-d0a25f668202",
   "metadata": {},
   "source": [
    "7) Calculate the 95% confidence interval for a sample of data with a mean of 50 and a standard deviation\n",
    "of 5. Interpret the results.\n",
    "\n",
    "\n",
    "Assuming the sample size as 30\n",
    "\n",
    "Confidence interval = (sample mean) ± (critical value) * (standard deviation / sqrt(sample size))\n",
    "\n",
    "Upper bound = 50 + 1.96 *(5/5.47722557505)=51.789\n",
    "Lower bound = 50 - 1.96 *(5/5.47722557505)=48.21\n",
    "\n",
    "The sample size is not given so we cannot calculate the C.I but if we assume the sample sizze of 30 we get the above result"
   ]
  },
  {
   "cell_type": "markdown",
   "id": "ff1e8270-bc82-4a12-9748-447e0ed6e59e",
   "metadata": {},
   "source": [
    "8) Margin of error is a statistical error where we can assume the probability of an event is by chance or by some error. The sample size affects the margin of error inversely ie as Sample size increase Margin of error decreases.\n",
    "Eg- Average height of students with a sample size of 50 students and other sample size of 200 students. The Sample size of 50 will have a higher margin of error.\n"
   ]
  },
  {
   "cell_type": "markdown",
   "id": "f2906012-bec8-4da1-81b7-2d40329ac1ba",
   "metadata": {},
   "source": [
    "9) z = (x - μ) / σ\n",
    "x = 75\n",
    "μ = 70\n",
    "σ = 5\n",
    "\n",
    "75-70/5 =1 \n",
    "\n",
    "\n",
    "\n"
   ]
  },
  {
   "cell_type": "markdown",
   "id": "0d496486-15e3-4a09-861e-bc5073505e63",
   "metadata": {},
   "source": [
    "10) In a study of the effectiveness of a new weight loss drug,\n",
    "Sample size n =50 \n",
    "sample mean = X\n",
    "hypothesized_mean= X-6\n",
    "\n",
    "sample_standard_deviation = 2.5\n",
    "\n",
    "dof= n-1 =50-1 =49\n",
    "\n",
    "t = (sample_mean - hypothesized_mean) / (sample_standard_deviation / sqrt(sample_size))\n",
    "\n",
    "t=  (6 - 0) / 2.5/7.07\n",
    "t= 6/0.35=17.14\n",
    "\n",
    "Critical value: 1.6766\n",
    "\n",
    "t score > critical value so we reject the null hypothesis."
   ]
  },
  {
   "cell_type": "markdown",
   "id": "ac43c2f9-db6f-4e79-b569-12d481097984",
   "metadata": {},
   "source": [
    "11) \n",
    "Confidence interval = (sample mean) ± (critical value) * (standard deviation / sqrt(sample size)). But as we dont have standard deviation we need to calculate the margin of error by using standard error.\n",
    "\n",
    "Margin of error = critical value * standard error\n",
    "\n",
    "n=500\n",
    "sample mean = 0.65\n",
    "\n",
    "\n",
    "standard error  = sqrt((p * (1 - p)) / n)\n",
    "\n",
    "SE = sqrt((0.65 * (1 - 0.65)) / 500)\n",
    "SE = 0.0198\n",
    "\n",
    "Upper bound = 0.65 + 1.96 * 0.0198 = 0.6888\n",
    "Lower bound = 0.65 - 1.96 * 0.0198 = 0.6112\n"
   ]
  },
  {
   "cell_type": "markdown",
   "id": "301a169e-b36e-434e-92b9-9686fa015ff7",
   "metadata": {},
   "source": [
    "12) We can use a two-sample t-test for independent samples.\n",
    "H0: The true mean difference between the two teaching methods is equal to zero.\n",
    "H1: The true mean difference between the two teaching methods is not equal to zero.\n",
    "\n",
    "α=0.01\n",
    "\n",
    "The test statistic for a two-sample t-test is calculated using the formula:\n",
    "t = (mean₁ - mean₂) / sqrt((s₁² / n₁) + (s₂² / n₂))\n",
    "\n",
    "mean₁ = 85\n",
    "mean₂ = 82\n",
    "s₁ = 6\n",
    "s₂ = 5\n",
    "n₁ = n₂ (assuming equal sample sizes)\n",
    "\n",
    "t = (85 - 82) / sqrt((6² / n) + (5² / n))\n",
    "t = 3 / sqrt((36 / n) + (25 / n))\n",
    "t = 3 / sqrt(61 / n)\n",
    "t = 3 / (7.81/√n)\n",
    "\n",
    "\n",
    "df = 2n - 2\n",
    "\n",
    "so if 3 / (7.81/√n) > critical value of 2n - 2 from t table then we can approve the null hypothesis otherwise we reject it\n"
   ]
  },
  {
   "cell_type": "markdown",
   "id": "b4f2c9af-219b-4eab-ba77-ac96f4bad931",
   "metadata": {},
   "source": [
    "13) μ=60\n",
    "σ = 8\n",
    "n=50\n",
    "x=65\n",
    "\n",
    "Critical value  = 1.645 from Z table for confidence interval of 90% \n",
    "\n",
    "margin of error =  critical value * standard deviation / sqrt(sample size)\n",
    "=1.645 * (8/7.07)\n",
    "= 1.86\n",
    "\n",
    "Upper bound for confidence interval = 60+ 1.86 = 61.86\n",
    "Lower bound for C.I = 60-1.86= 58.14\n"
   ]
  },
  {
   "cell_type": "markdown",
   "id": "d88f134f-123e-4892-ae80-85eefc5c8781",
   "metadata": {},
   "source": [
    "14) H0: The true mean reaction time is equal to or greater than 0.25 seconds.\n",
    "H1: The true mean reaction time is less than 0.25 seconds.\n",
    "\n",
    "α=0.10\n",
    "Sample mean = 0.25 \n",
    "Hypothesized mean = 0.25 seconds\n",
    "s=0.05 \n",
    "n=30\n",
    "\n",
    "t = (sample_mean - hypothesized_mean) / (sample_standard_deviation / sqrt(sample_size))\n",
    "\n",
    "t = 0 / (0.05 / sqrt(30))\n",
    "t = 0 / 0.00914\n",
    "t = 0\n",
    "\n",
    "Critical value with dof of 29 (30-1 from sample size) is -1.311\n",
    "\n",
    "Therefore as 0< -1.311 we fail to reject the null hypothesis."
   ]
  }
 ],
 "metadata": {
  "kernelspec": {
   "display_name": "Python 3 (ipykernel)",
   "language": "python",
   "name": "python3"
  },
  "language_info": {
   "name": ""
  }
 },
 "nbformat": 4,
 "nbformat_minor": 5
}
