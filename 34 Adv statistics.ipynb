{
 "cells": [
  {
   "cell_type": "markdown",
   "id": "ea92ef61-27fa-4bff-8aaa-43addd81c043",
   "metadata": {},
   "source": [
    "1) Probability Mass Function - it is the distribution of discrete random variable.\n",
    "    eg - Rolling dice\n",
    "   Probability Density Function- it is the distribution of continuous random variable\n",
    "   eg - average height distribution\n",
    "   "
   ]
  },
  {
   "cell_type": "markdown",
   "id": "59251cfb-55b3-47d9-95a9-cf63491d891c",
   "metadata": {},
   "source": [
    "2) Cumulative distribution function is the cumulative probability distribution value of a random variable.\n",
    "\n",
    "\n",
    "Eg- if we want to calculate less than or equal to probability of some event then we use CDF. Eg - probability of people with percentage less than 70. we will take all the students whose percentage is less than 70 and then divide by total number of students.\n"
   ]
  },
  {
   "cell_type": "markdown",
   "id": "eac1aa6c-72a2-40e0-a9c8-37f7773de832",
   "metadata": {},
   "source": [
    "3) Examples where normal distribution used as model is average IQ of people, average height of people\n",
    "The parameters of normal distribution are (mu) and standard deviation (sd). Mean is central value around which normal distribution is symmetrically distributed. It represents the average value and it is the peak of the distribution.\n",
    "\n",
    "SD - determines the spread around the mean. Larger standard deviation results in thicker tails indication greater probability of extreme values happening. "
   ]
  },
  {
   "cell_type": "markdown",
   "id": "78a4317e-ec82-42cc-858c-9ca72fe929d4",
   "metadata": {},
   "source": [
    "4) Normal Distribution's importance lies in its ability to model a wide range of phenomena, simplify statistical analysis, enable reliable inference, and provide a foundation for various statistical techniques.\n",
    "eg-\n",
    "Heights and weights of a population.\n",
    "IQ scores in a large sample of people.\n"
   ]
  },
  {
   "cell_type": "markdown",
   "id": "f916c938-771a-4aeb-b78b-67f9f0f19ce8",
   "metadata": {},
   "source": [
    "5) The Bernoulli distribution is used to model situations with two possible outcomes. It is characterized by a single parameter representing the probability of success. Eg- coin flip\n",
    "Bernoulli is discrete possible outcomes. Commonly used to model binary outcome events such as coin toss, success failure events. \n",
    "Bionomial distribution has continuous distribution. used to model heights ,weights, exam scores."
   ]
  },
  {
   "cell_type": "markdown",
   "id": "086edfd8-58fa-4c6b-8b60-9d74eb9a13fa",
   "metadata": {},
   "source": [
    "6)  we can use the Z-score and the standard normal distribution. The Z-score represents the number of standard deviations a data point is away from the mean. Formula - Z = (X - μ) / σ\n",
    "Z = (60 - 50) / 10 = 1\n",
    "The area to the left of Z = 1 is approximately 0.8413. \n",
    "P(X > 60) = 1 - P(X ≤ 60) = 1 - 0.8413 = 0.1587"
   ]
  },
  {
   "cell_type": "markdown",
   "id": "2c71d38f-6bc9-4a16-82b6-6e2f7dfd2dcb",
   "metadata": {},
   "source": [
    "7) Uniform distribution is where the probability of all the events is same. Eg - probability of coin toss, dice throw where all the outcomes are equally likely. "
   ]
  },
  {
   "cell_type": "markdown",
   "id": "b2b7bda4-5529-4266-9f7a-bf0ed4d8942b",
   "metadata": {},
   "source": [
    "8) The Z-score represents the number of standard deviations a data point is away from the mean. It can be used to calculate the probability of values before or after a point. "
   ]
  },
  {
   "cell_type": "markdown",
   "id": "db5060db-2407-428f-8e30-0fc0693a6d2c",
   "metadata": {},
   "source": [
    "9) According to central limit theorem the sum or average of a large number of independent and identically distributed random variables tends to follow a normal distribution, regardless of the shape of the original distribution. This theorem allows us to apply statistical techniques to a wide range of real-world data, as many phenomena can be approximated by the sum or average of multiple variables."
   ]
  },
  {
   "cell_type": "markdown",
   "id": "4c562731-0f1e-42e9-be44-36902223bb07",
   "metadata": {},
   "source": [
    "10) The assumptions of the Central Limit Theorem are as follows:\n",
    "Independence: The observations in the sample should be independent of each other. Each observation should be unrelated to the others and not influenced by any external factors.\n",
    "Identically Distributed: The observations in the sample should be drawn from the same population and have the same probability distribution. This assumption ensures that each observation has the same underlying distribution and follows the same rules.\n",
    "Finite Variance: The population from which the sample is drawn should have a finite variance. This assumption implies that the spread of the population values is limited and not infinite.\n",
    "Sample Size: The Central Limit Theorem holds for large enough sample sizes. Although there is no specific threshold, a general rule of thumb is that the sample size should be at least 30. However, for some distributions, even smaller sample sizes can provide a good approximation to a normal distribution.\n"
   ]
  }
 ],
 "metadata": {
  "kernelspec": {
   "display_name": "Python 3 (ipykernel)",
   "language": "python",
   "name": "python3"
  },
  "language_info": {
   "codemirror_mode": {
    "name": "ipython",
    "version": 3
   },
   "file_extension": ".py",
   "mimetype": "text/x-python",
   "name": "python",
   "nbconvert_exporter": "python",
   "pygments_lexer": "ipython3",
   "version": "3.10.8"
  }
 },
 "nbformat": 4,
 "nbformat_minor": 5
}
