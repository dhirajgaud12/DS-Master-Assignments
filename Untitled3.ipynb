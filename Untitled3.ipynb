{
 "cells": [
  {
   "cell_type": "code",
   "execution_count": 10,
   "id": "07dcd1f3-b3d4-443a-917b-e5d6fed7f730",
   "metadata": {},
   "outputs": [
    {
     "name": "stdin",
     "output_type": "stream",
     "text": [
      "Please enter percentage 59\n"
     ]
    },
    {
     "name": "stdout",
     "output_type": "stream",
     "text": [
      "D Grade\n"
     ]
    }
   ],
   "source": [
    "perc=input(\"Please enter percentage\")\n",
    "percent=int(perc)\n",
    "\n",
    "if(percent>90):\n",
    "    print(\"A Grade\")\n",
    "elif(percent>80 and percent<=90):\n",
    "    print(\"B Grade\")\n",
    "elif(percent>=60 and percent<=80):\n",
    "    print(\"C Grade\")\n",
    "else:\n",
    "    print(\"D Grade\")\n",
    "    "
   ]
  },
  {
   "cell_type": "code",
   "execution_count": 19,
   "id": "7931cf4f-478e-4ba3-a7be-728922a4abe4",
   "metadata": {},
   "outputs": [
    {
     "name": "stdin",
     "output_type": "stream",
     "text": [
      "Enter the cost price of bike 1\n"
     ]
    },
    {
     "name": "stdout",
     "output_type": "stream",
     "text": [
      "Tax is 5%\n"
     ]
    }
   ],
   "source": [
    "cost_price=int(input(\"Enter the cost price of bike\"))\n",
    "\n",
    "if(cost_price>100000):\n",
    "    print(\"Tax is 15%\")\n",
    "elif(cost_price>50000 and cost_price<=100000):\n",
    "    print(\"Tax is 10%\")\n",
    "else:\n",
    "    print(\"Tax is 5%\")"
   ]
  },
  {
   "cell_type": "code",
   "execution_count": 26,
   "id": "8ee684a7-9fa2-4658-bcd4-b7c581a86872",
   "metadata": {},
   "outputs": [
    {
     "name": "stdin",
     "output_type": "stream",
     "text": [
      "Enter city name Agra\n"
     ]
    },
    {
     "name": "stdout",
     "output_type": "stream",
     "text": [
      "Monument is Taj Mahal\n"
     ]
    }
   ],
   "source": [
    "mydict= {\n",
    "    \"Delhi\":\"Red Fort\",\n",
    "    \"Agra\":\"Taj Mahal\",\n",
    "    \"Jaipur\":\"Jal Mahal\"\n",
    "}\n",
    "\n",
    "city=input(\"Enter city name\")\n",
    "\n",
    "if(city==\"Delhi\"):\n",
    "    print(\"Monument is {city}\".format(city=mydict[\"Delhi\"]))\n",
    "elif(city==\"Agra\"):\n",
    "    print(\"Monument is {city}\".format(city=mydict[\"Agra\"]))\n",
    "elif(city==\"Jaipur\"):\n",
    "    print(\"Monument is {city}\".format(city=mydict[\"Jaipur\"]))\n",
    "    "
   ]
  },
  {
   "cell_type": "code",
   "execution_count": 33,
   "id": "41623c9b-837c-40e5-b317-f2ca83e022b6",
   "metadata": {},
   "outputs": [
    {
     "name": "stdin",
     "output_type": "stream",
     "text": [
      "Enter a number to check how many time it can be divided by zero 13\n"
     ]
    },
    {
     "name": "stdout",
     "output_type": "stream",
     "text": [
      "Number can be divided 1.0\n"
     ]
    }
   ],
   "source": [
    "num=int(input(\"Enter a number to check how many time it can be divided by zero\"))\n",
    "\n",
    "diff=num-10\n",
    "\n",
    "if(diff<=0):\n",
    "    print(\"Number can be divided zero times\")\n",
    "else:\n",
    "    print(\"Number can be divided {num}\".format(num=diff/3))"
   ]
  },
  {
   "cell_type": "markdown",
   "id": "0edcbaa2-d891-47d4-a75d-f56f76f76214",
   "metadata": {},
   "source": [
    "Why and When to use a while loop - \n",
    "we need to use when the increment or decrement condition is not specified. Or the exit condition is not specified.\n",
    "\n",
    "Eg- while(true):\n",
    "    if (a==b):\n",
    "        continue \n",
    "    else:\n",
    "        break\n",
    "    "
   ]
  },
  {
   "cell_type": "code",
   "execution_count": null,
   "id": "180491a9-c256-4f81-9369-02e5193c5a38",
   "metadata": {},
   "outputs": [],
   "source": [
    "i=5\n",
    "while(i>0):\n",
    "    print(\"*\")\n",
    "    i=-1\n",
    "\n",
    "j=5\n",
    "i=5\n",
    "while(j>0):\n",
    "    while(i>0):\n",
    "        print(\"*\")\n",
    "        i=-1\n",
    "    j=-1\n",
    "    "
   ]
  },
  {
   "cell_type": "code",
   "execution_count": 47,
   "id": "12820810-6100-45c4-9e70-24d7528ed8e9",
   "metadata": {},
   "outputs": [
    {
     "name": "stdout",
     "output_type": "stream",
     "text": [
      "10\n",
      "9\n",
      "8\n",
      "7\n",
      "6\n",
      "5\n",
      "4\n",
      "3\n",
      "2\n",
      "1\n"
     ]
    }
   ],
   "source": [
    "num=10\n",
    "while(num>0):\n",
    "    print(num)\n",
    "    num=num-1"
   ]
  },
  {
   "cell_type": "code",
   "execution_count": null,
   "id": "25ca5ea1-3056-4412-9fe9-c68bc9b56ddb",
   "metadata": {},
   "outputs": [],
   "source": []
  }
 ],
 "metadata": {
  "kernelspec": {
   "display_name": "Python 3 (ipykernel)",
   "language": "python",
   "name": "python3"
  },
  "language_info": {
   "codemirror_mode": {
    "name": "ipython",
    "version": 3
   },
   "file_extension": ".py",
   "mimetype": "text/x-python",
   "name": "python",
   "nbconvert_exporter": "python",
   "pygments_lexer": "ipython3",
   "version": "3.10.8"
  }
 },
 "nbformat": 4,
 "nbformat_minor": 5
}
