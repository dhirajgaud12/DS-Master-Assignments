{
 "cells": [
  {
   "cell_type": "markdown",
   "id": "8be1c32e-5385-4ae0-9fca-2a6ab6f2e259",
   "metadata": {},
   "source": [
    "1) API is application programming interface. Its a software component that acts as intermediary between two applications. \n",
    "    eg - Web transcation using UPI which is done on different sytems and applications\n"
   ]
  },
  {
   "cell_type": "markdown",
   "id": "4b5884da-d0e1-4441-b9c7-024fc64ca2eb",
   "metadata": {},
   "source": [
    "2) Advantages of API - \n",
    "    a) Easy to implement\n",
    "    b) Easy to maintain\n",
    "\n",
    "    Disadvantages of API - \n",
    "    a) Exposure can lead to security risks\n",
    "    b) Difficult to understand and code from enduser developer point\n",
    "    c) Difficult to modify existing code by maintaining team\n",
    "    "
   ]
  },
  {
   "cell_type": "markdown",
   "id": "7f21b72b-0f6d-4d00-acd4-091d95ed5904",
   "metadata": {},
   "source": [
    "3) Web API is API which supports only the http protocol for communication.\n",
    "\n",
    "Difference in web api and api - \n",
    "\n",
    "a) API can use any protocol for communication like smtp, ftp, http. But Web API can only use http protocol\n",
    "b) API can be used in network or offline but Web APIs requires to be connected in network always."
   ]
  },
  {
   "cell_type": "markdown",
   "id": "49689467-8bec-4008-9942-56efdcb79c6f",
   "metadata": {},
   "source": [
    "4) SOAP architecture - It relies on XML for messaging services. Uses WSDL (Web Services Description Language) . This is file  associated with SOAP. It provides a definition of how the web service works. It has built in error handling. \n",
    "\n",
    "REST architecture - It uses simple URL and JSON for requrest JSON representation for response. Uses GET, POST, PUT, and DELETE methods to perform tasks.\n",
    "\n",
    "SOAP Shortcommings- \n",
    "1) SOAP is harder to understand and maintain\n",
    "2) SOAP is harder to develop\n",
    "3) SOAP takes more time for development\n",
    "4) SOAP is slower as we require additional processing for XML in WSDL"
   ]
  },
  {
   "cell_type": "markdown",
   "id": "00d6bbc4-1e11-41d5-bd36-2108fee27e66",
   "metadata": {},
   "source": [
    "6) REST and SOAP difference - \n",
    "\n",
    "REST - Uses JSON,URL for representation of request and reponse.\n",
    "Can also work with CSV\n",
    "Easier to write and faster to develop\n",
    "Easier to understand and maintain\n",
    "Faster to run as it doesnt require additional processing required for SOAP by WSDL.\n",
    "\n",
    "\n",
    "SOAP - Uses XML file for representation and uses WSDL file for implementing rules on attributes.\n",
    "Cannot work with any other format\n",
    "Can provide more security if designed by providing it in the WSDL file.\n",
    "Hard to understand and maintain\n",
    "Slower to write and develop code for same message compared to REST\n",
    "\n"
   ]
  }
 ],
 "metadata": {
  "kernelspec": {
   "display_name": "Python 3 (ipykernel)",
   "language": "python",
   "name": "python3"
  },
  "language_info": {
   "codemirror_mode": {
    "name": "ipython",
    "version": 3
   },
   "file_extension": ".py",
   "mimetype": "text/x-python",
   "name": "python",
   "nbconvert_exporter": "python",
   "pygments_lexer": "ipython3",
   "version": "3.10.8"
  }
 },
 "nbformat": 4,
 "nbformat_minor": 5
}
