{
 "cells": [
  {
   "cell_type": "markdown",
   "id": "045c0938-cc34-4a0d-849d-c3a82255b499",
   "metadata": {},
   "source": [
    "1) Probability dentisty function - it is distribution of continuous data. "
   ]
  },
  {
   "cell_type": "markdown",
   "id": "089c1d65-a4d4-4dcc-bd88-276428ee140b",
   "metadata": {},
   "source": [
    "2) Types of probability distribution - \n",
    "    a) Normal/Gaussian distribution - Bell Curve\n",
    "    b) Bernoulli distribution - Outcomes are 0 or 1\n",
    "    c) Uniform distribution - Equal distribution for all values\n",
    "    d) Log normal distribution - PDF of this variable whose log is normally distributed\n",
    "    e) Poisson distribution \n",
    "    f) Power law distribution \n",
    "    g) Bionomial distribution "
   ]
  },
  {
   "cell_type": "code",
   "execution_count": 25,
   "id": "3168be20-9501-4d88-9b15-2e9f9fbfb394",
   "metadata": {},
   "outputs": [
    {
     "data": {
      "text/plain": [
       "0.00016009021720694023"
      ]
     },
     "execution_count": 25,
     "metadata": {},
     "output_type": "execute_result"
    }
   ],
   "source": [
    "#3)\n",
    "import scipy.stats \n",
    "from scipy.stats import norm\n",
    "\n",
    "def calcPDF(mean, std_dev, x):\n",
    "    pdf = norm.pdf(x, loc=mean, scale=std_dev)\n",
    "    return pdf\n",
    "    \n",
    "\n",
    "calcPDF(12,3,1)\n",
    "    "
   ]
  },
  {
   "cell_type": "markdown",
   "id": "13e19a66-9a0c-4375-bbc0-fb3d0ad05a8f",
   "metadata": {},
   "source": [
    "4) Properties of bionomial distribution - \n",
    "    a) There are 2 possible outcomes\n",
    "    b) N number of independent trials\n",
    "    c) Probability of success and failure remains the same\n",
    "    d) only the number of success is calculated for each trial\n",
    "    e) Every trial is an independent trial\n",
    "    \n",
    "eg - Coin toss 3 times and checking best of 3\n",
    "     Dice trhow best of 3 "
   ]
  },
  {
   "cell_type": "code",
   "execution_count": 18,
   "id": "90ade025-298c-4ccb-9fe7-630e103eb581",
   "metadata": {},
   "outputs": [
    {
     "data": {
      "image/png": "[encoded data removed]",
      "text/plain": [
       "<Figure size 640x480 with 1 Axes>"
      ]
     },
     "metadata": {},
     "output_type": "display_data"
    }
   ],
   "source": [
    "#5\n",
    "import numpy as np\n",
    "import matplotlib.pyplot as plt\n",
    "\n",
    "n = 1000  # Sample size\n",
    "p = 0.4  # Probability of success\n",
    "\n",
    "sample = np.random.binomial(n=1, p=p, size=n)\n",
    "\n",
    "\n",
    "plt.hist(sample,bins=2)\n",
    "plt.xlabel(\"Probability of success or failure\")\n",
    "plt.ylabel(\"Frequency\")\n",
    "plt.title('Histogram of Binomial Distribution')\n",
    "plt.show()\n"
   ]
  },
  {
   "cell_type": "code",
   "execution_count": 23,
   "id": "33934fe2-e90a-4c6f-8efb-4e811f7f1ee4",
   "metadata": {},
   "outputs": [
    {
     "name": "stdout",
     "output_type": "stream",
     "text": [
      "0.0\n"
     ]
    }
   ],
   "source": [
    "#6)\n",
    "\n",
    "def caclcCDF(gmean,gpoint):\n",
    "    cdf = poisson.cdf(gpoint, mu=gmean)\n",
    "    return cdf\n",
    "    \n",
    "caclcCDF(156,4)"
   ]
  },
  {
   "cell_type": "markdown",
   "id": "f61684ee-0122-4943-8c0a-28e0a194575e",
   "metadata": {},
   "source": [
    "7) Poisson distribution the number of outcomes are unlimited along with the number of trials.\n",
    "    In bionomial distribution the number of outcomes are only 2 as well as the number of trials are limited\n",
    "    "
   ]
  },
  {
   "cell_type": "code",
   "execution_count": 31,
   "id": "280ca282-5fe5-400c-ba58-59e835a83376",
   "metadata": {},
   "outputs": [
    {
     "name": "stdout",
     "output_type": "stream",
     "text": [
      "5.022 5.027515999999999\n"
     ]
    }
   ],
   "source": [
    "#8)\n",
    "\n",
    "\n",
    "\n",
    "size = 1000  \n",
    "mean = 5 \n",
    "sample = np.random.poisson(mean, size)\n",
    "sample_mean = np.mean(sample)\n",
    "sample_variance = np.var(sample)\n",
    "print(sample_mean,sample_variance)\n",
    "    \n",
    "\n"
   ]
  },
  {
   "cell_type": "code",
   "execution_count": null,
   "id": "de2aa7b3-35ae-4965-8f17-afb496f34801",
   "metadata": {},
   "outputs": [],
   "source": []
  },
  {
   "cell_type": "markdown",
   "id": "876c353a-a4c8-4fe7-9018-63705b0bc349",
   "metadata": {},
   "source": [
    "9) In bionomial distribution the mean is greater than the variance. \n",
    "    In probability distribution the mean is equal to the varaince"
   ]
  },
  {
   "cell_type": "code",
   "execution_count": null,
   "id": "2361e07e-1f7a-44f8-8223-5ce67f46b0b0",
   "metadata": {},
   "outputs": [],
   "source": [
    "10) In normal distribution with respect to mean position least frequent data appears to the extreme left or extreme right side of the peak"
   ]
  }
 ],
 "metadata": {
  "kernelspec": {
   "display_name": "Python 3 (ipykernel)",
   "language": "python",
   "name": "python3"
  },
  "language_info": {
   "codemirror_mode": {
    "name": "ipython",
    "version": 3
   },
   "file_extension": ".py",
   "mimetype": "text/x-python",
   "name": "python",
   "nbconvert_exporter": "python",
   "pygments_lexer": "ipython3",
   "version": "3.10.8"
  }
 },
 "nbformat": 4,
 "nbformat_minor": 5
}
