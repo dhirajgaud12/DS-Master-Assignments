{
 "cells": [
  {
   "cell_type": "markdown",
   "id": "ed0994d3-6145-4a25-b914-a07f00d2b8b1",
   "metadata": {},
   "source": [
    " 1) Open function is useed to open a file\n",
    "    a) Read Mode 'r'- This is the default value. Opens a file for reading. Returns error if file does not exists.\n",
    "    b) Write Mode 'w'- Opens a file for writing, Creates new if doenst exist, will truncate existing file first\n",
    "    c) Append Mode 'a'- Opens a file for appending. Creates new if file not exist\n",
    "    d) Create Mode 'x'- Creates a new file, returns error if file exists already. Opens it for writing.\n",
    "    e) Binary Mod 'b' - Opens file in binary Mode\n",
    "    f) Text Mod 't' - Opens file in Text Mode, is default Mode\n",
    "    g) Update Mode '+' - Opens a file in read or write which can be updated. \n"
   ]
  },
  {
   "cell_type": "markdown",
   "id": "5827e3e7-d7e8-4b0b-bc8d-e6d0fb3fdb43",
   "metadata": {},
   "source": [
    "2) Close function is used to close the file handler. \n",
    "Close function is used to save on resources as file is an resource. "
   ]
  },
  {
   "cell_type": "code",
   "execution_count": 14,
   "id": "d701c21a-9ffe-4c19-bf15-78d7cd87234a",
   "metadata": {},
   "outputs": [
    {
     "data": {
      "text/plain": [
       "'I want to become a Data Scientist {\\n} I want to become a Data Scientist'"
      ]
     },
     "execution_count": 14,
     "metadata": {},
     "output_type": "execute_result"
    }
   ],
   "source": [
    "# 3) \n",
    "\n",
    "newfile = open(\"Test.txt\",\"w\")\n",
    "newfile.write(\"I want to become a Data Scientist \\n I want to become a Data Scientist\")\n",
    "newfile.close()\n",
    "\n",
    "\n",
    "newfile=open(\"Test.txt\",\"r\")\n",
    "newfile.read(10000)\n",
    "\n"
   ]
  },
  {
   "cell_type": "code",
   "execution_count": 18,
   "id": "f2602978-f04e-411d-aa10-76b67a010eda",
   "metadata": {},
   "outputs": [
    {
     "data": {
      "text/plain": [
       "['I want to become a Data Scientist \\n', ' I want to become a Data Scientist']"
      ]
     },
     "execution_count": 18,
     "metadata": {},
     "output_type": "execute_result"
    }
   ],
   "source": [
    "# 4) \n",
    "\n",
    "newfile = open(\"Test.txt\",\"w\")\n",
    "newfile.write(\"I want to become a Data Scientist \\n I want to become a Data Scientist\")\n",
    "newfile.close()\n",
    "\n",
    "\n",
    "newfile=open(\"Test.txt\",\"r\")\n",
    "newfile.read(10000)\n",
    "\n",
    "\n",
    "\n"
   ]
  },
  {
   "cell_type": "code",
   "execution_count": 23,
   "id": "07eda969-d649-46e4-9187-bc6e5736e1c8",
   "metadata": {},
   "outputs": [
    {
     "data": {
      "text/plain": [
       "'I want to become a Data Scientist \\n'"
      ]
     },
     "execution_count": 23,
     "metadata": {},
     "output_type": "execute_result"
    }
   ],
   "source": [
    "newfile1=open(\"Test.txt\",\"r\")\n",
    "newfile1.readline()\n"
   ]
  },
  {
   "cell_type": "code",
   "execution_count": 21,
   "id": "0d74a193-aa64-4322-97a3-c728cd582a90",
   "metadata": {},
   "outputs": [
    {
     "data": {
      "text/plain": [
       "['I want to become a Data Scientist \\n', ' I want to become a Data Scientist']"
      ]
     },
     "execution_count": 21,
     "metadata": {},
     "output_type": "execute_result"
    }
   ],
   "source": [
    "newfile2=open(\"Test.txt\",\"r\")\n",
    "newfile2.readlines()\n",
    "\n"
   ]
  },
  {
   "cell_type": "markdown",
   "id": "23d56f22-b4ac-4d0b-bbc5-81fd8493e01b",
   "metadata": {},
   "source": [
    "5) If we use 'with' for file handling it calls enter and exit file methods internally. \n",
    "Python does the closing of file handler internally. \n",
    "Advantage of using open and with together is that we dont have to write close method manually. "
   ]
  },
  {
   "cell_type": "code",
   "execution_count": 26,
   "id": "273d7c12-1a51-453d-ac16-3cccc3f7b17a",
   "metadata": {},
   "outputs": [
    {
     "data": {
      "text/plain": [
       "['Testing file write function']"
      ]
     },
     "execution_count": 26,
     "metadata": {},
     "output_type": "execute_result"
    }
   ],
   "source": [
    "# 6) Write function is used to write a string to open file. \n",
    "# Writelines is used to write list of string into file.\n",
    "\n",
    "newfile1=open(\"Test.txt\",\"w\")\n",
    "string='Testing file write function'\n",
    "\n",
    "newfile1.write(string)\n",
    "\n",
    "newfile1=open(\"Test.txt\",\"r\")\n",
    "newfile1.readlines()"
   ]
  },
  {
   "cell_type": "code",
   "execution_count": 30,
   "id": "47dc98ae-4505-443f-8768-1c3b504ed0f8",
   "metadata": {},
   "outputs": [],
   "source": [
    "newfile1=open(\"Test.txt\",\"w\")\n",
    "listnew=['Testing file write function','Python does the closing of file handler internally.']\n",
    "newfile1.writelines(listnew)"
   ]
  },
  {
   "cell_type": "code",
   "execution_count": null,
   "id": "745d1e32-0818-47b6-9cea-1a3d6586c1e2",
   "metadata": {},
   "outputs": [],
   "source": []
  }
 ],
 "metadata": {
  "kernelspec": {
   "display_name": "Python 3 (ipykernel)",
   "language": "python",
   "name": "python3"
  },
  "language_info": {
   "codemirror_mode": {
    "name": "ipython",
    "version": 3
   },
   "file_extension": ".py",
   "mimetype": "text/x-python",
   "name": "python",
   "nbconvert_exporter": "python",
   "pygments_lexer": "ipython3",
   "version": "3.10.8"
  }
 },
 "nbformat": 4,
 "nbformat_minor": 5
}
