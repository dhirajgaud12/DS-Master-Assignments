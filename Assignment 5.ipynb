{
 "cells": [
  {
   "cell_type": "code",
   "execution_count": 24,
   "id": "d888e0fd-da8f-49e5-9d10-5e94ae616313",
   "metadata": {},
   "outputs": [
    {
     "name": "stdout",
     "output_type": "stream",
     "text": [
      "OrderedDict([('Virat Kohli', 24936), ('Jack Kallis', 25534), ('Ricky Ponting', 27483), ('Sachin Tendulkar', 34357)])\n"
     ]
    }
   ],
   "source": [
    "from collections import OrderedDict\n",
    "\n",
    "def test1(list1):\n",
    "    mydict=dict(list1)\n",
    "    #Used lambda function here for sorting key based on the dictionary value in key value pair\n",
    "    print(OrderedDict(sorted(mydict.items(),key=lambda x:x[1])))\n",
    "\n",
    "    \n",
    "test1([('Sachin Tendulkar', 34357), ('Ricky Ponting', 27483), ('Jack Kallis', 25534), ('Virat Kohli', 24936)])"
   ]
  },
  {
   "cell_type": "code",
   "execution_count": 28,
   "id": "7fb135b5-668c-4263-8dd6-96e7926ff00c",
   "metadata": {},
   "outputs": [
    {
     "data": {
      "text/plain": [
       "[1, 4, 9, 16, 25, 36, 49, 64, 81, 100]"
      ]
     },
     "execution_count": 28,
     "metadata": {},
     "output_type": "execute_result"
    }
   ],
   "source": [
    "list2=[1, 2, 3, 4, 5, 6, 7, 8, 9, 10]\n",
    "list(map(lambda x:x**2,list2))\n"
   ]
  },
  {
   "cell_type": "code",
   "execution_count": 29,
   "id": "5313e1d9-b44d-4b4c-ba98-f6d99d9e3108",
   "metadata": {},
   "outputs": [
    {
     "data": {
      "text/plain": [
       "['1', '2', '3', '4', '5', '6', '7', '8', '9', '10']"
      ]
     },
     "execution_count": 29,
     "metadata": {},
     "output_type": "execute_result"
    }
   ],
   "source": [
    "list3=[1, 2, 3, 4, 5, 6, 7, 8, 9, 10]\n",
    "list(map(lambda x:str(x),list3))"
   ]
  },
  {
   "cell_type": "code",
   "execution_count": 31,
   "id": "55a1c608-0b27-417d-ad29-b00b994375b7",
   "metadata": {},
   "outputs": [
    {
     "data": {
      "text/plain": [
       "325"
      ]
     },
     "execution_count": 31,
     "metadata": {},
     "output_type": "execute_result"
    }
   ],
   "source": [
    "import functools\n",
    "\n",
    "list4=[1, 2, 3, 4, 5, 6, 7, 8, 9, 10,11,12,13,14,15,16,17,18,19,20,21,22,23,24,25]\n",
    "functools.reduce(lambda x,y:x+y, list4)"
   ]
  },
  {
   "cell_type": "code",
   "execution_count": 34,
   "id": "7fb74db1-4e85-43df-8faf-1a6a308052c6",
   "metadata": {},
   "outputs": [
    {
     "data": {
      "text/plain": [
       "[6, 60, 90, 120]"
      ]
     },
     "execution_count": 34,
     "metadata": {},
     "output_type": "execute_result"
    }
   ],
   "source": [
    "list5=[2, 3, 6, 9, 27, 60, 90, 120, 55, 46]\n",
    "list(filter(lambda x:  x%2==0 and x%3==0 , list5))"
   ]
  },
  {
   "cell_type": "code",
   "execution_count": 37,
   "id": "32881ed8-c962-47b0-abd1-54a7e03d731f",
   "metadata": {},
   "outputs": [
    {
     "data": {
      "text/plain": [
       "['php', 'aba', 'radar', 'level']"
      ]
     },
     "execution_count": 37,
     "metadata": {},
     "output_type": "execute_result"
    }
   ],
   "source": [
    "list6=['python', 'php', 'aba', 'radar', 'level']\n",
    "list(filter(lambda i:  i[::-1]==i, list6))"
   ]
  },
  {
   "cell_type": "code",
   "execution_count": null,
   "id": "90e271a4-b997-496a-856c-b16624f8dafd",
   "metadata": {},
   "outputs": [],
   "source": []
  }
 ],
 "metadata": {
  "kernelspec": {
   "display_name": "Python 3 (ipykernel)",
   "language": "python",
   "name": "python3"
  },
  "language_info": {
   "codemirror_mode": {
    "name": "ipython",
    "version": 3
   },
   "file_extension": ".py",
   "mimetype": "text/x-python",
   "name": "python",
   "nbconvert_exporter": "python",
   "pygments_lexer": "ipython3",
   "version": "3.10.8"
  }
 },
 "nbformat": 4,
 "nbformat_minor": 5
}
