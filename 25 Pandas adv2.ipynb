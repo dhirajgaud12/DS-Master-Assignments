{
 "cells": [
  {
   "cell_type": "code",
   "execution_count": 1,
   "id": "d221f7c2-bc58-4c5d-8e5c-28e121b635e3",
   "metadata": {},
   "outputs": [],
   "source": [
    "import pandas as pd\n",
    "course_name = ['Data Science', 'Machine Learning', 'Big Data', 'Data Engineer']\n",
    "duration = [2,3,6,4]\n",
    "df = pd.DataFrame(data = {'course_name' : course_name, 'duration' : duration})"
   ]
  },
  {
   "cell_type": "code",
   "execution_count": 2,
   "id": "4dfd7d33-a02d-4a39-8fa9-81949a0d6ddd",
   "metadata": {},
   "outputs": [
    {
     "data": {
      "text/html": [
       "<div>\n",
       "<style scoped>\n",
       "    .dataframe tbody tr th:only-of-type {\n",
       "        vertical-align: middle;\n",
       "    }\n",
       "\n",
       "    .dataframe tbody tr th {\n",
       "        vertical-align: top;\n",
       "    }\n",
       "\n",
       "    .dataframe thead th {\n",
       "        text-align: right;\n",
       "    }\n",
       "</style>\n",
       "<table border=\"1\" class=\"dataframe\">\n",
       "  <thead>\n",
       "    <tr style=\"text-align: right;\">\n",
       "      <th></th>\n",
       "      <th>course_name</th>\n",
       "      <th>duration</th>\n",
       "    </tr>\n",
       "  </thead>\n",
       "  <tbody>\n",
       "    <tr>\n",
       "      <th>2</th>\n",
       "      <td>Big Data</td>\n",
       "      <td>6</td>\n",
       "    </tr>\n",
       "  </tbody>\n",
       "</table>\n",
       "</div>"
      ],
      "text/plain": [
       "  course_name  duration\n",
       "2    Big Data         6"
      ]
     },
     "execution_count": 2,
     "metadata": {},
     "output_type": "execute_result"
    }
   ],
   "source": [
    "#1)\n",
    "df.iloc[2:3]"
   ]
  },
  {
   "cell_type": "markdown",
   "id": "ce0066c8-665e-4b69-9821-921631c15328",
   "metadata": {},
   "source": [
    "2) iloc= this function is used to retrieve internal indexes ie integer index for retriving rows in dataframe. \n",
    "loc= this function is used to retrieve user defined or string based locations or rows from dataframe.\n"
   ]
  },
  {
   "cell_type": "code",
   "execution_count": 3,
   "id": "abff41b7-150d-4c11-87aa-4236a2abe155",
   "metadata": {},
   "outputs": [
    {
     "data": {
      "text/plain": [
       "course_name    Big Data\n",
       "duration              6\n",
       "Name: 2, dtype: object"
      ]
     },
     "execution_count": 3,
     "metadata": {},
     "output_type": "execute_result"
    }
   ],
   "source": [
    "#3)\n",
    "new_df=df.reindex([3,0,1,2])\n",
    "new_df.loc[2]"
   ]
  },
  {
   "cell_type": "code",
   "execution_count": 4,
   "id": "77e9694a-6f76-4652-971f-645f1a5272cc",
   "metadata": {},
   "outputs": [
    {
     "data": {
      "text/plain": [
       "course_name    Machine Learning\n",
       "duration                      3\n",
       "Name: 1, dtype: object"
      ]
     },
     "execution_count": 4,
     "metadata": {},
     "output_type": "execute_result"
    }
   ],
   "source": [
    "new_df.iloc[2]"
   ]
  },
  {
   "cell_type": "markdown",
   "id": "a06edb2c-fe95-4dfa-86e5-1b9d6b524ab9",
   "metadata": {},
   "source": [
    "The difference in both is that iloc will retrieve index starting from 1 while loc will retrieve data starting from index 0"
   ]
  },
  {
   "cell_type": "code",
   "execution_count": 5,
   "id": "42396e1a-0be9-4620-964d-3d8e960d08e3",
   "metadata": {},
   "outputs": [
    {
     "data": {
      "text/html": [
       "<div>\n",
       "<style scoped>\n",
       "    .dataframe tbody tr th:only-of-type {\n",
       "        vertical-align: middle;\n",
       "    }\n",
       "\n",
       "    .dataframe tbody tr th {\n",
       "        vertical-align: top;\n",
       "    }\n",
       "\n",
       "    .dataframe thead th {\n",
       "        text-align: right;\n",
       "    }\n",
       "</style>\n",
       "<table border=\"1\" class=\"dataframe\">\n",
       "  <thead>\n",
       "    <tr style=\"text-align: right;\">\n",
       "      <th></th>\n",
       "      <th>course_name</th>\n",
       "    </tr>\n",
       "  </thead>\n",
       "  <tbody>\n",
       "    <tr>\n",
       "      <th>count</th>\n",
       "      <td>4</td>\n",
       "    </tr>\n",
       "    <tr>\n",
       "      <th>unique</th>\n",
       "      <td>4</td>\n",
       "    </tr>\n",
       "    <tr>\n",
       "      <th>top</th>\n",
       "      <td>Data Science</td>\n",
       "    </tr>\n",
       "    <tr>\n",
       "      <th>freq</th>\n",
       "      <td>1</td>\n",
       "    </tr>\n",
       "  </tbody>\n",
       "</table>\n",
       "</div>"
      ],
      "text/plain": [
       "         course_name\n",
       "count              4\n",
       "unique             4\n",
       "top     Data Science\n",
       "freq               1"
      ]
     },
     "execution_count": 5,
     "metadata": {},
     "output_type": "execute_result"
    }
   ],
   "source": [
    "#4)\n",
    "df[df.dtypes[df.dtypes=='object'].index].describe()"
   ]
  },
  {
   "cell_type": "code",
   "execution_count": 6,
   "id": "c34dceed-0192-42b7-bb29-ff67e966fb25",
   "metadata": {},
   "outputs": [],
   "source": [
    "import pandas as pd\n",
    "import numpy as np\n",
    "columns = ['column_1', 'column_2', 'column_3', 'column_4', 'column_5', 'column_6']\n",
    "indices = [1,2,3,4,5,6]\n",
    "#Creating a dataframe:\n",
    "df1 = pd.DataFrame(np.random.rand(6,6), columns = columns, index = indices)"
   ]
  },
  {
   "cell_type": "code",
   "execution_count": 7,
   "id": "890f26ab-b9a1-4307-b5bf-bd68a0457b4c",
   "metadata": {},
   "outputs": [
    {
     "data": {
      "text/plain": [
       "column_1    0.599362\n",
       "column_2    0.434255\n",
       "column_3    0.715691\n",
       "column_4    0.462202\n",
       "column_5    0.417421\n",
       "column_6    0.405240\n",
       "dtype: float64"
      ]
     },
     "execution_count": 7,
     "metadata": {},
     "output_type": "execute_result"
    }
   ],
   "source": [
    "#5)\n",
    "df1.mean()"
   ]
  },
  {
   "cell_type": "code",
   "execution_count": 8,
   "id": "4d1d6dcb-b611-4d7f-a249-e043c875b60f",
   "metadata": {},
   "outputs": [
    {
     "data": {
      "text/plain": [
       "0.2898561234289172"
      ]
     },
     "execution_count": 8,
     "metadata": {},
     "output_type": "execute_result"
    }
   ],
   "source": [
    "df1['column_2'].std()"
   ]
  },
  {
   "cell_type": "code",
   "execution_count": 9,
   "id": "c654a69c-fedc-4af7-bea0-d20370a287fd",
   "metadata": {},
   "outputs": [],
   "source": [
    "df1['column_2'].loc[2:2]=str(df1['column_2'].loc[2:2])"
   ]
  },
  {
   "cell_type": "code",
   "execution_count": 10,
   "id": "e4b01d1f-cbb5-4abc-955f-8c178ffe7741",
   "metadata": {},
   "outputs": [
    {
     "name": "stderr",
     "output_type": "stream",
     "text": [
      "/tmp/ipykernel_91/4192049203.py:1: FutureWarning: The default value of numeric_only in DataFrame.mean is deprecated. In a future version, it will default to False. In addition, specifying 'numeric_only=None' is deprecated. Select only valid columns or specify the value of numeric_only to silence this warning.\n",
      "  df1[['column_1','column_2']].mean()\n"
     ]
    },
    {
     "data": {
      "text/plain": [
       "column_1    0.599362\n",
       "dtype: float64"
      ]
     },
     "execution_count": 10,
     "metadata": {},
     "output_type": "execute_result"
    }
   ],
   "source": [
    "df1[['column_1','column_2']].mean()\n"
   ]
  },
  {
   "cell_type": "markdown",
   "id": "a7f5a6d0-2abf-43e7-869f-f34ff4c8f429",
   "metadata": {},
   "source": [
    "We are getting error because the calculating data for mean required in numerical format. But the data provided is catergorical or string format."
   ]
  },
  {
   "cell_type": "markdown",
   "id": "7af7457e-c7f4-4bd1-8e85-64831ac957e7",
   "metadata": {},
   "source": [
    "6) Window is the number of rows to apply the function on in the dataframe. types of windows are - \n",
    "    a) Rolling window: Generic fixed or variable sliding window over the values.\n",
    "    b) Weighted window: Weighted, non-rectangular window supplied by the scipy.signal library.\n",
    "    c) Expanding window: Accumulating window over the values.\n",
    "    d) Exponentially Weighted window: Accumulating and exponentially weighted window over the values."
   ]
  },
  {
   "cell_type": "code",
   "execution_count": 11,
   "id": "5c21ac4b-63c6-4348-affa-0bed12eed343",
   "metadata": {},
   "outputs": [
    {
     "data": {
      "text/plain": [
       "2023"
      ]
     },
     "execution_count": 11,
     "metadata": {},
     "output_type": "execute_result"
    }
   ],
   "source": [
    "#7) \n",
    "pd.to_datetime(\"today\").month\n",
    "pd.to_datetime(\"today\").year"
   ]
  },
  {
   "cell_type": "code",
   "execution_count": 12,
   "id": "54cad753-6396-4499-bb87-7d5aceaf40ab",
   "metadata": {},
   "outputs": [
    {
     "name": "stdin",
     "output_type": "stream",
     "text": [
      "input date 1 2018-10-26 13:00:15\n",
      "enter 2nd date 2018-10-26 12:00\n"
     ]
    },
    {
     "name": "stdout",
     "output_type": "stream",
     "text": [
      "-1 days +22:59:45 1379.75 82785\n"
     ]
    }
   ],
   "source": [
    "#8) \n",
    "def differenceindates(date1,date2):\n",
    "    days=pd.to_datetime(date2)-pd.to_datetime(date1)\n",
    "    hours=pd.Timedelta(days).seconds/60\n",
    "    minutes=pd.Timedelta(days).seconds\n",
    "    #minutes=pd.Timedelta(pd.to_datetime(date2)-pd.to_datetime(date1)).seconds/60\n",
    "    #minutes=(pd.to_datetime(date2)-pd.to_datetime(date1)).dt.total_seconds()\n",
    "    print(days,hours,minutes)\n",
    "    \n",
    "    \n",
    "\n",
    "date1=input(\"input date 1\")\n",
    "date2=input(\"enter 2nd date\")\n",
    "differenceindates(date1,date2)"
   ]
  },
  {
   "cell_type": "code",
   "execution_count": 38,
   "id": "2397f3c6-1517-427f-91fc-4720ceb57b92",
   "metadata": {},
   "outputs": [
    {
     "name": "stdin",
     "output_type": "stream",
     "text": [
      "Enter file path Test/student_data.csv\n",
      "Enter Column name Test Score\n"
     ]
    },
    {
     "data": {
      "text/html": [
       "<div>\n",
       "<style scoped>\n",
       "    .dataframe tbody tr th:only-of-type {\n",
       "        vertical-align: middle;\n",
       "    }\n",
       "\n",
       "    .dataframe tbody tr th {\n",
       "        vertical-align: top;\n",
       "    }\n",
       "\n",
       "    .dataframe thead th {\n",
       "        text-align: right;\n",
       "    }\n",
       "</style>\n",
       "<table border=\"1\" class=\"dataframe\">\n",
       "  <thead>\n",
       "    <tr style=\"text-align: right;\">\n",
       "      <th></th>\n",
       "      <th>Student ID</th>\n",
       "      <th>Test Score</th>\n",
       "      <th>sorted_score</th>\n",
       "    </tr>\n",
       "  </thead>\n",
       "  <tbody>\n",
       "    <tr>\n",
       "      <th>3</th>\n",
       "      <td>4.0</td>\n",
       "      <td>75.0</td>\n",
       "      <td>75.0</td>\n",
       "    </tr>\n",
       "    <tr>\n",
       "      <th>6</th>\n",
       "      <td>7.0</td>\n",
       "      <td>78.0</td>\n",
       "      <td>78.0</td>\n",
       "    </tr>\n",
       "    <tr>\n",
       "      <th>2</th>\n",
       "      <td>3.0</td>\n",
       "      <td>80.0</td>\n",
       "      <td>80.0</td>\n",
       "    </tr>\n",
       "    <tr>\n",
       "      <th>5</th>\n",
       "      <td>6.0</td>\n",
       "      <td>82.0</td>\n",
       "      <td>82.0</td>\n",
       "    </tr>\n",
       "    <tr>\n",
       "      <th>0</th>\n",
       "      <td>1.0</td>\n",
       "      <td>85.0</td>\n",
       "      <td>85.0</td>\n",
       "    </tr>\n",
       "    <tr>\n",
       "      <th>4</th>\n",
       "      <td>5.0</td>\n",
       "      <td>85.0</td>\n",
       "      <td>85.0</td>\n",
       "    </tr>\n",
       "    <tr>\n",
       "      <th>7</th>\n",
       "      <td>8.0</td>\n",
       "      <td>85.0</td>\n",
       "      <td>85.0</td>\n",
       "    </tr>\n",
       "    <tr>\n",
       "      <th>9</th>\n",
       "      <td>10.0</td>\n",
       "      <td>85.0</td>\n",
       "      <td>85.0</td>\n",
       "    </tr>\n",
       "    <tr>\n",
       "      <th>1</th>\n",
       "      <td>2.0</td>\n",
       "      <td>90.0</td>\n",
       "      <td>90.0</td>\n",
       "    </tr>\n",
       "    <tr>\n",
       "      <th>8</th>\n",
       "      <td>9.0</td>\n",
       "      <td>90.0</td>\n",
       "      <td>90.0</td>\n",
       "    </tr>\n",
       "    <tr>\n",
       "      <th>10</th>\n",
       "      <td>NaN</td>\n",
       "      <td>NaN</td>\n",
       "      <td>NaN</td>\n",
       "    </tr>\n",
       "    <tr>\n",
       "      <th>11</th>\n",
       "      <td>NaN</td>\n",
       "      <td>NaN</td>\n",
       "      <td>NaN</td>\n",
       "    </tr>\n",
       "    <tr>\n",
       "      <th>12</th>\n",
       "      <td>NaN</td>\n",
       "      <td>NaN</td>\n",
       "      <td>NaN</td>\n",
       "    </tr>\n",
       "    <tr>\n",
       "      <th>13</th>\n",
       "      <td>NaN</td>\n",
       "      <td>NaN</td>\n",
       "      <td>NaN</td>\n",
       "    </tr>\n",
       "    <tr>\n",
       "      <th>14</th>\n",
       "      <td>NaN</td>\n",
       "      <td>NaN</td>\n",
       "      <td>NaN</td>\n",
       "    </tr>\n",
       "    <tr>\n",
       "      <th>15</th>\n",
       "      <td>NaN</td>\n",
       "      <td>NaN</td>\n",
       "      <td>NaN</td>\n",
       "    </tr>\n",
       "    <tr>\n",
       "      <th>16</th>\n",
       "      <td>NaN</td>\n",
       "      <td>NaN</td>\n",
       "      <td>NaN</td>\n",
       "    </tr>\n",
       "    <tr>\n",
       "      <th>17</th>\n",
       "      <td>NaN</td>\n",
       "      <td>NaN</td>\n",
       "      <td>NaN</td>\n",
       "    </tr>\n",
       "    <tr>\n",
       "      <th>18</th>\n",
       "      <td>NaN</td>\n",
       "      <td>NaN</td>\n",
       "      <td>NaN</td>\n",
       "    </tr>\n",
       "    <tr>\n",
       "      <th>19</th>\n",
       "      <td>NaN</td>\n",
       "      <td>NaN</td>\n",
       "      <td>NaN</td>\n",
       "    </tr>\n",
       "    <tr>\n",
       "      <th>20</th>\n",
       "      <td>NaN</td>\n",
       "      <td>NaN</td>\n",
       "      <td>NaN</td>\n",
       "    </tr>\n",
       "    <tr>\n",
       "      <th>21</th>\n",
       "      <td>NaN</td>\n",
       "      <td>NaN</td>\n",
       "      <td>NaN</td>\n",
       "    </tr>\n",
       "    <tr>\n",
       "      <th>22</th>\n",
       "      <td>NaN</td>\n",
       "      <td>NaN</td>\n",
       "      <td>NaN</td>\n",
       "    </tr>\n",
       "  </tbody>\n",
       "</table>\n",
       "</div>"
      ],
      "text/plain": [
       "    Student ID  Test Score sorted_score\n",
       "3          4.0        75.0         75.0\n",
       "6          7.0        78.0         78.0\n",
       "2          3.0        80.0         80.0\n",
       "5          6.0        82.0         82.0\n",
       "0          1.0        85.0         85.0\n",
       "4          5.0        85.0         85.0\n",
       "7          8.0        85.0         85.0\n",
       "9         10.0        85.0         85.0\n",
       "1          2.0        90.0         90.0\n",
       "8          9.0        90.0         90.0\n",
       "10         NaN         NaN          NaN\n",
       "11         NaN         NaN          NaN\n",
       "12         NaN         NaN          NaN\n",
       "13         NaN         NaN          NaN\n",
       "14         NaN         NaN          NaN\n",
       "15         NaN         NaN          NaN\n",
       "16         NaN         NaN          NaN\n",
       "17         NaN         NaN          NaN\n",
       "18         NaN         NaN          NaN\n",
       "19         NaN         NaN          NaN\n",
       "20         NaN         NaN          NaN\n",
       "21         NaN         NaN          NaN\n",
       "22         NaN         NaN          NaN"
      ]
     },
     "execution_count": 38,
     "metadata": {},
     "output_type": "execute_result"
    }
   ],
   "source": [
    "#9\n",
    "file_path=input(\"Enter file path\")\n",
    "colm=input(\"Enter Column name\")\n",
    "csvdf=pd.read_csv(file_path)\n",
    "csvdf['sorted_score']=csvdf[colm].astype('category')\n",
    "pd.Categorical(csvdf[colm], categories=[\"Test Score\", \"Student ID\"], ordered=True)\n",
    "csvdf.sort_values(by=colm)\n"
   ]
  },
  {
   "cell_type": "code",
   "execution_count": 24,
   "id": "eb3ceee3-fd2e-4b4c-9768-eb66c5d49b1f",
   "metadata": {},
   "outputs": [
    {
     "name": "stdin",
     "output_type": "stream",
     "text": [
      "Enter path for sales csv Test/sales.csv\n"
     ]
    },
    {
     "data": {
      "text/plain": [
       "<AxesSubplot: xlabel='date'>"
      ]
     },
     "execution_count": 24,
     "metadata": {},
     "output_type": "execute_result"
    },
    {
     "data": {
      "image/png": "[encoded data removed]",
      "text/plain": [
       "<Figure size 640x480 with 1 Axes>"
      ]
     },
     "metadata": {},
     "output_type": "display_data"
    }
   ],
   "source": [
    "#10)\n",
    "salescsvpath=input(\"Enter path for sales csv\")\n",
    "salesdf=pd.read_csv(salescsvpath)\n",
    "salesdf.plot(x='date', y='Sales',kind=\"bar\", stacked = True)"
   ]
  },
  {
   "cell_type": "code",
   "execution_count": 41,
   "id": "e1e55760-2eff-4aaa-b65a-4960a8c858b3",
   "metadata": {},
   "outputs": [
    {
     "name": "stdin",
     "output_type": "stream",
     "text": [
      "Enter student csv path Test/student_data.csv\n"
     ]
    },
    {
     "name": "stdout",
     "output_type": "stream",
     "text": [
      "Empty DataFrame\n",
      "Columns: [83.5, 85.0]\n",
      "Index: []\n"
     ]
    }
   ],
   "source": [
    "#11) \n",
    "studentcsvpath=input(\"Enter student csv path\")\n",
    "studdf=pd.read_csv(studentcsvpath)\n",
    "resultdf=pd.DataFrame()\n",
    "resultdf[score_mean]=studdf['Test Score'].mean()\n",
    "resultdf[score_median]=studdf['Test Score'].median()\n",
    "resultdf[score_mode]=studdf['Test Score'].mode()\n",
    "\n",
    "print(resultdf)"
   ]
  },
  {
   "cell_type": "code",
   "execution_count": null,
   "id": "afb37a00-5ae1-429f-92ee-3ce7ef0c8805",
   "metadata": {},
   "outputs": [],
   "source": []
  }
 ],
 "metadata": {
  "kernelspec": {
   "display_name": "Python 3 (ipykernel)",
   "language": "python",
   "name": "python3"
  },
  "language_info": {
   "codemirror_mode": {
    "name": "ipython",
    "version": 3
   },
   "file_extension": ".py",
   "mimetype": "text/x-python",
   "name": "python",
   "nbconvert_exporter": "python",
   "pygments_lexer": "ipython3",
   "version": "3.10.8"
  }
 },
 "nbformat": 4,
 "nbformat_minor": 5
}
