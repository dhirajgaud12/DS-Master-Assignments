{
 "cells": [
  {
   "cell_type": "markdown",
   "id": "7990ea8b-dab3-4a6b-8777-e8b075dc6fe3",
   "metadata": {},
   "source": [
    "1) Web scraping is method of obtaining data from websites using programming which are not controlled or owned by developing side. It is used for getting data from websites where we give the URL as our need and get the result which in turn we can open for obtaining data.\n",
    "\n",
    "example a) Getting all list for new smartphones under 15000 which are 5g enabled\n",
    "        b) Searching for views and likes in youtube videos belonging to a channel\n",
    "        c) Searching all the viral tweets for their tags"
   ]
  },
  {
   "cell_type": "markdown",
   "id": "3a69d520-5984-4e21-a1db-936b96a87dd8",
   "metadata": {},
   "source": [
    "2) Ways of scrapping data- \n",
    "    a) Manual Scrapping - adding data manually to database, time consuming and takes efforts\n",
    "    b) Automated scrapping - Scrapping data programatically with code. Takes very less time and efforts.\n",
    "    "
   ]
  },
  {
   "cell_type": "markdown",
   "id": "694973b3-ac5d-46fc-9890-bc8331e9e148",
   "metadata": {},
   "source": [
    "3) Beautiful Soap is a python package. It is used to beautify the html code so that is relatively in human readable format than before. "
   ]
  },
  {
   "cell_type": "markdown",
   "id": "80204dca-99c1-4e83-850b-16591b7f771c",
   "metadata": {},
   "source": [
    "4) Flask is a micro framework used for working with APIs, this is very useful as we need to work with APIs and in network for creating web scrappers. "
   ]
  },
  {
   "cell_type": "markdown",
   "id": "f7958a2e-893d-4bc1-bd34-aaadee31aaa6",
   "metadata": {},
   "source": [
    "5) AWS Services used in this project -\n",
    "    a) Elastic Beanstalk - It is a service for deploying and scaling web applications and services. Where we get virtual Computer resources like ram, hdd , cpu\n",
    "    b) Code Pipeline -  CodePipeline is a fully automated service that helps automate deployment by taking code from the source and deploying it to the given AWS resource in our case the Elastic beanstalk. Its Continuous deployment mechanism. "
   ]
  },
  {
   "cell_type": "code",
   "execution_count": null,
   "id": "53fe8122-3ff5-4f95-ad4f-10c9fe3b02b8",
   "metadata": {},
   "outputs": [],
   "source": []
  }
 ],
 "metadata": {
  "kernelspec": {
   "display_name": "Python 3 (ipykernel)",
   "language": "python",
   "name": "python3"
  },
  "language_info": {
   "codemirror_mode": {
    "name": "ipython",
    "version": 3
   },
   "file_extension": ".py",
   "mimetype": "text/x-python",
   "name": "python",
   "nbconvert_exporter": "python",
   "pygments_lexer": "ipython3",
   "version": "3.10.8"
  }
 },
 "nbformat": 4,
 "nbformat_minor": 5
}
